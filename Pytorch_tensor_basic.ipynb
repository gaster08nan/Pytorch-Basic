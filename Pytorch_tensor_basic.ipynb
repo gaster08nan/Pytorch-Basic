{
 "cells": [
  {
   "cell_type": "code",
   "execution_count": 1,
   "id": "7f3a78f0",
   "metadata": {},
   "outputs": [
    {
     "name": "stderr",
     "output_type": "stream",
     "text": [
      "d:\\work\\personal-projects\\pytorch-nlp\\pytorch\\lib\\site-packages\\tqdm\\auto.py:21: TqdmWarning: IProgress not found. Please update jupyter and ipywidgets. See https://ipywidgets.readthedocs.io/en/stable/user_install.html\n",
      "  from .autonotebook import tqdm as notebook_tqdm\n"
     ]
    },
    {
     "name": "stdout",
     "output_type": "stream",
     "text": [
      "tensor([[0.1798, 0.6248, 0.2278],\n",
      "        [0.2981, 0.3528, 0.4206],\n",
      "        [0.8528, 0.1899, 0.6302],\n",
      "        [0.6498, 0.7147, 0.4099],\n",
      "        [0.5166, 0.0357, 0.4708]])\n"
     ]
    }
   ],
   "source": [
    "import torch\n",
    "torch.cuda.is_available()\n",
    "x = torch.rand(5, 3)\n",
    "print(x)"
   ]
  },
  {
   "cell_type": "code",
   "execution_count": 3,
   "id": "3db66dbf",
   "metadata": {},
   "outputs": [
    {
     "data": {
      "text/plain": [
       "tensor(21)"
      ]
     },
     "execution_count": 3,
     "metadata": {},
     "output_type": "execute_result"
    }
   ],
   "source": [
    "#scalar\n",
    "scalar = torch.tensor(21)\n",
    "scalar"
   ]
  },
  {
   "cell_type": "code",
   "execution_count": 5,
   "id": "1355ee61",
   "metadata": {},
   "outputs": [
    {
     "name": "stdout",
     "output_type": "stream",
     "text": [
      "0\n",
      "21\n"
     ]
    }
   ],
   "source": [
    "#dimention of scalar\n",
    "print(scalar.ndim)\n",
    "#get tensor back to python int\n",
    "print(scalar.item()) #=> only 0 dimention tensor can be converted into python scalar"
   ]
  },
  {
   "cell_type": "code",
   "execution_count": 6,
   "id": "7ff9d7d0",
   "metadata": {},
   "outputs": [
    {
     "data": {
      "text/plain": [
       "tensor([11, 21])"
      ]
     },
     "execution_count": 6,
     "metadata": {},
     "output_type": "execute_result"
    }
   ],
   "source": [
    "#vector\n",
    "vector = torch.tensor([11,21])\n",
    "vector"
   ]
  },
  {
   "cell_type": "code",
   "execution_count": 8,
   "id": "c7fb11b1",
   "metadata": {},
   "outputs": [
    {
     "name": "stdout",
     "output_type": "stream",
     "text": [
      "1\n",
      "torch.Size([2])\n"
     ]
    }
   ],
   "source": [
    "#dimention of vector\n",
    "print(vector.ndim)\n",
    "print(vector.size())"
   ]
  },
  {
   "cell_type": "code",
   "execution_count": 9,
   "id": "f51d3172",
   "metadata": {},
   "outputs": [
    {
     "data": {
      "text/plain": [
       "tensor([[1, 2, 3],\n",
       "        [9, 8, 7]])"
      ]
     },
     "execution_count": 9,
     "metadata": {},
     "output_type": "execute_result"
    }
   ],
   "source": [
    "#MATRIX\n",
    "MATRIX = torch.tensor([[1,2,3],[9,8,7]])\n",
    "MATRIX"
   ]
  },
  {
   "cell_type": "code",
   "execution_count": 10,
   "id": "7b9c37b8",
   "metadata": {},
   "outputs": [
    {
     "name": "stdout",
     "output_type": "stream",
     "text": [
      "2\n",
      "torch.Size([2, 3])\n"
     ]
    }
   ],
   "source": [
    "#dimention of MÂTRIX\n",
    "print(MATRIX.ndim)\n",
    "#size of MATRIX\n",
    "print(MATRIX.size())"
   ]
  },
  {
   "cell_type": "code",
   "execution_count": 15,
   "id": "754f058b",
   "metadata": {},
   "outputs": [
    {
     "data": {
      "text/plain": [
       "tensor([[[1, 2, 3],\n",
       "         [4, 5, 6],\n",
       "         [1, 4, 7],\n",
       "         [2, 5, 8]]])"
      ]
     },
     "execution_count": 15,
     "metadata": {},
     "output_type": "execute_result"
    }
   ],
   "source": [
    "#TENSOR\n",
    "TENSOR = torch.tensor([\n",
    "                        [\n",
    "                            [1,2,3],\n",
    "                            [4,5,6],\n",
    "                            [1,4,7],\n",
    "                            [2,5,8]\n",
    "                        ]\n",
    "                      ]) \n",
    "TENSOR"
   ]
  },
  {
   "cell_type": "code",
   "execution_count": 16,
   "id": "de97b34b",
   "metadata": {},
   "outputs": [
    {
     "name": "stdout",
     "output_type": "stream",
     "text": [
      "3\n",
      "torch.Size([1, 4, 3])\n"
     ]
    }
   ],
   "source": [
    "#dimension of TENSOR\n",
    "print(TENSOR.ndim)\n",
    "#size of TENSOR\n",
    "print(TENSOR.size())"
   ]
  },
  {
   "cell_type": "markdown",
   "id": "207a3cda",
   "metadata": {},
   "source": [
    "### Random tensor"
   ]
  },
  {
   "cell_type": "code",
   "execution_count": 20,
   "id": "d2569b32",
   "metadata": {},
   "outputs": [
    {
     "name": "stdout",
     "output_type": "stream",
     "text": [
      "2\n"
     ]
    },
    {
     "data": {
      "text/plain": [
       "tensor([[0.9364, 0.6767, 0.0842, 0.5898],\n",
       "        [0.8389, 0.9316, 0.7499, 0.8045],\n",
       "        [0.0827, 0.7268, 0.5419, 0.9267]])"
      ]
     },
     "execution_count": 20,
     "metadata": {},
     "output_type": "execute_result"
    }
   ],
   "source": [
    "#create a random tensor of size (3,4)\n",
    "random_tensor = torch.rand(3,4)\n",
    "print(random_tensor.ndim)\n",
    "random_tensor"
   ]
  },
  {
   "cell_type": "code",
   "execution_count": 22,
   "id": "ed0d68fe",
   "metadata": {},
   "outputs": [
    {
     "name": "stdout",
     "output_type": "stream",
     "text": [
      "3\n",
      "torch.Size([3, 224, 224])\n"
     ]
    }
   ],
   "source": [
    "#create a random image of size (224,224,3)\n",
    "random_image_tensor = torch.rand(size = (3,224,224))\n",
    "print(random_image_tensor.ndim)\n",
    "print(random_image_tensor.size())"
   ]
  },
  {
   "cell_type": "markdown",
   "id": "2d220df4",
   "metadata": {},
   "source": [
    "### Zeros and ones"
   ]
  },
  {
   "cell_type": "code",
   "execution_count": 25,
   "id": "715944df",
   "metadata": {},
   "outputs": [
    {
     "data": {
      "text/plain": [
       "tensor([[0., 0., 0., 0.],\n",
       "        [0., 0., 0., 0.],\n",
       "        [0., 0., 0., 0.]])"
      ]
     },
     "execution_count": 25,
     "metadata": {},
     "output_type": "execute_result"
    }
   ],
   "source": [
    "#create of tensor of all zeros\n",
    "zeros_tensor = torch.zeros(3,4)\n",
    "zeros_tensor"
   ]
  },
  {
   "cell_type": "code",
   "execution_count": 29,
   "id": "0224a89a",
   "metadata": {},
   "outputs": [
    {
     "data": {
      "text/plain": [
       "torch.float32"
      ]
     },
     "execution_count": 29,
     "metadata": {},
     "output_type": "execute_result"
    }
   ],
   "source": [
    "zeros_tensor.dtype"
   ]
  },
  {
   "cell_type": "code",
   "execution_count": 26,
   "id": "77da248d",
   "metadata": {},
   "outputs": [
    {
     "data": {
      "text/plain": [
       "tensor([[1., 1., 1., 1.],\n",
       "        [1., 1., 1., 1.],\n",
       "        [1., 1., 1., 1.],\n",
       "        [1., 1., 1., 1.],\n",
       "        [1., 1., 1., 1.]])"
      ]
     },
     "execution_count": 26,
     "metadata": {},
     "output_type": "execute_result"
    }
   ],
   "source": [
    "#create of tensor of all ones\n",
    "ones_tensor = torch.ones(5,4)\n",
    "ones_tensor"
   ]
  },
  {
   "cell_type": "code",
   "execution_count": 30,
   "id": "648e2fdd",
   "metadata": {},
   "outputs": [
    {
     "data": {
      "text/plain": [
       "torch.float32"
      ]
     },
     "execution_count": 30,
     "metadata": {},
     "output_type": "execute_result"
    }
   ],
   "source": [
    "ones_tensor.dtype"
   ]
  },
  {
   "cell_type": "markdown",
   "id": "22054109",
   "metadata": {},
   "source": [
    "### Create a range of tensors and tensor-like"
   ]
  },
  {
   "cell_type": "code",
   "execution_count": 37,
   "id": "1133195f",
   "metadata": {},
   "outputs": [
    {
     "data": {
      "text/plain": [
       "tensor([ 1,  2,  3,  4,  5,  6,  7,  8,  9, 10])"
      ]
     },
     "execution_count": 37,
     "metadata": {},
     "output_type": "execute_result"
    }
   ],
   "source": [
    "#use torch.arange() - use to create a 1-d tensor\n",
    "one_to_ten = torch.arange(start = 1,end = 11, step = 1)\n",
    "one_to_ten"
   ]
  },
  {
   "cell_type": "code",
   "execution_count": 39,
   "id": "7150de22",
   "metadata": {},
   "outputs": [
    {
     "data": {
      "text/plain": [
       "tensor([[0., 0., 0., 0.],\n",
       "        [0., 0., 0., 0.],\n",
       "        [0., 0., 0., 0.]])"
      ]
     },
     "execution_count": 39,
     "metadata": {},
     "output_type": "execute_result"
    }
   ],
   "source": [
    "#create tensor like\n",
    "ten_zeros = torch.zeros_like(input =random_tensor)\n",
    "ten_zeros"
   ]
  },
  {
   "cell_type": "markdown",
   "id": "90dac763",
   "metadata": {},
   "source": [
    "### Tensor datatype\n",
    "<b>Note</b>: Tensor datatype is one of the big 3 errors you will run into with PyTorch & deep learning:\n",
    "1. Tensors not right data type\n",
    "2. Tensors not right shape\n",
    "3. Tensor not right device"
   ]
  },
  {
   "cell_type": "code",
   "execution_count": 41,
   "id": "da499f55",
   "metadata": {},
   "outputs": [
    {
     "data": {
      "text/plain": [
       "tensor([3., 6., 9.])"
      ]
     },
     "execution_count": 41,
     "metadata": {},
     "output_type": "execute_result"
    }
   ],
   "source": [
    "float_32_tensor = torch.tensor([3.0,6.0,9.0], \n",
    "                                dtype =None, #what data type of tensor\n",
    "                                device = None, #what device is the tensor on\n",
    "                                require_grad = False) #whether or not to tracking gradients with this tensors operations\n",
    "float_32_tensor"
   ]
  },
  {
   "cell_type": "code",
   "execution_count": 42,
   "id": "b980d0e2",
   "metadata": {},
   "outputs": [
    {
     "data": {
      "text/plain": [
       "torch.float32"
      ]
     },
     "execution_count": 42,
     "metadata": {},
     "output_type": "execute_result"
    }
   ],
   "source": [
    "float_32_tensor.dtype"
   ]
  },
  {
   "cell_type": "code",
   "execution_count": 45,
   "id": "c74c5ea4",
   "metadata": {},
   "outputs": [
    {
     "data": {
      "text/plain": [
       "tensor([3., 6., 9.], dtype=torch.float16)"
      ]
     },
     "execution_count": 45,
     "metadata": {},
     "output_type": "execute_result"
    }
   ],
   "source": [
    "float_16_tensor = float_32_tensor.type(torch.float16)\n",
    "float_16_tensor"
   ]
  },
  {
   "cell_type": "code",
   "execution_count": 47,
   "id": "f0f51228",
   "metadata": {},
   "outputs": [
    {
     "data": {
      "text/plain": [
       "torch.float32"
      ]
     },
     "execution_count": 47,
     "metadata": {},
     "output_type": "execute_result"
    }
   ],
   "source": [
    "test_tensor = float_16_tensor * float_32_tensor\n",
    "test_tensor.dtype"
   ]
  },
  {
   "cell_type": "markdown",
   "id": "281768cf",
   "metadata": {},
   "source": [
    "#### Getting information from tensor\n",
    "1. Tensor not in right dtype - to do get datatype from a tensor, can use tensor.dtype\n",
    "2. Tensor not in right shape - to get shape from a tensor, can use tensor.shape\n",
    "3. Tensor not on the right device - to get device from a tensor, can use tensor.device"
   ]
  },
  {
   "cell_type": "code",
   "execution_count": 48,
   "id": "ab7e63e0",
   "metadata": {},
   "outputs": [],
   "source": [
    "#create a tensor\n",
    "test_tensor = torch.rand(5,4) "
   ]
  },
  {
   "cell_type": "code",
   "execution_count": 49,
   "id": "c80aff0b",
   "metadata": {},
   "outputs": [
    {
     "name": "stdout",
     "output_type": "stream",
     "text": [
      "dtype of tensor:  torch.float32\n",
      "shape of tensor:  torch.Size([5, 4])\n",
      "device of tensor:  cpu\n"
     ]
    }
   ],
   "source": [
    "print(\"dtype of tensor: \",test_tensor.dtype)\n",
    "print(\"shape of tensor: \", test_tensor.shape)\n",
    "print(\"device of tensor: \", test_tensor.device)"
   ]
  },
  {
   "cell_type": "markdown",
   "id": "ee21c30a",
   "metadata": {},
   "source": [
    "### Manipulate tensor\n",
    "Tensor opertaion include:\n",
    "* addition\n",
    "* subtraction\n",
    "* division\n",
    "* multiplication (element wise)\n",
    "* matrix multiplication\n"
   ]
  },
  {
   "cell_type": "code",
   "execution_count": 50,
   "id": "82748cc9",
   "metadata": {},
   "outputs": [
    {
     "data": {
      "text/plain": [
       "tensor([14, 15, 16])"
      ]
     },
     "execution_count": 50,
     "metadata": {},
     "output_type": "execute_result"
    }
   ],
   "source": [
    "#create a tensor:\n",
    "tensor = torch.tensor([4,5,6])\n",
    "tensor+10"
   ]
  },
  {
   "cell_type": "code",
   "execution_count": 51,
   "id": "dd516f75",
   "metadata": {},
   "outputs": [
    {
     "data": {
      "text/plain": [
       "tensor([40, 50, 60])"
      ]
     },
     "execution_count": 51,
     "metadata": {},
     "output_type": "execute_result"
    }
   ],
   "source": [
    "tensor*10"
   ]
  },
  {
   "cell_type": "code",
   "execution_count": 52,
   "id": "f53170df",
   "metadata": {},
   "outputs": [
    {
     "data": {
      "text/plain": [
       "tensor([40, 50, 60])"
      ]
     },
     "execution_count": 52,
     "metadata": {},
     "output_type": "execute_result"
    }
   ],
   "source": [
    "#try in-build function in pytorch\n",
    "torch.mul(tensor,10)"
   ]
  },
  {
   "cell_type": "code",
   "execution_count": 53,
   "id": "e14483d2",
   "metadata": {},
   "outputs": [
    {
     "data": {
      "text/plain": [
       "tensor([14, 15, 16])"
      ]
     },
     "execution_count": 53,
     "metadata": {},
     "output_type": "execute_result"
    }
   ],
   "source": [
    "torch.add(tensor,10)"
   ]
  },
  {
   "cell_type": "markdown",
   "id": "301e8265",
   "metadata": {},
   "source": [
    "### Matrix multiplication\n",
    "There are 2 main ways to perform multiplication in neural network and deep learning:\n",
    "1. Element-wise multiplication\n",
    "2. Matrix multiplication (dot-product)\n",
    "\n",
    "There are 2 main rule need to sastify for the matrix multiplication:\n",
    "1. The **inner dimention** must match:\n",
    "* `(3,2) @ (3,2)` will not work\n",
    "* `(3,2) @ (2,3)` will work\n",
    "* `(2,3) @ (3,2)` will work\n",
    "2. The resulting matrix must have the shape of **outter dimention**:\n",
    "* `(3,2) @ (2,3)` will have shape (3,3)\n",
    "* `(2,3) @ (3,5)` will have shape (2,5) "
   ]
  },
  {
   "cell_type": "code",
   "execution_count": 54,
   "id": "01759bc1",
   "metadata": {},
   "outputs": [
    {
     "name": "stdout",
     "output_type": "stream",
     "text": [
      "tensor([4, 5, 6]) * tensor([4, 5, 6])\n",
      "Equal:  tensor([16, 25, 36])\n"
     ]
    }
   ],
   "source": [
    "#Element-wise multiplication\n",
    "print(f\"{tensor} * {tensor}\")\n",
    "print(\"Equal: \", tensor*tensor)"
   ]
  },
  {
   "cell_type": "code",
   "execution_count": 56,
   "id": "bd92d593",
   "metadata": {},
   "outputs": [
    {
     "data": {
      "text/plain": [
       "tensor(77)"
      ]
     },
     "execution_count": 56,
     "metadata": {},
     "output_type": "execute_result"
    }
   ],
   "source": [
    "#Matrix multiplication\n",
    "torch.matmul(tensor,tensor)"
   ]
  },
  {
   "cell_type": "markdown",
   "id": "4fe827a4",
   "metadata": {},
   "source": [
    "### one of the most common errors in deep learning: shape errors"
   ]
  },
  {
   "cell_type": "code",
   "execution_count": 58,
   "id": "f4b38ac2",
   "metadata": {},
   "outputs": [],
   "source": [
    "tensor_A = torch.tensor([[1,2],\n",
    "                        [3,4],\n",
    "                        [5,6]])\n",
    "tensor_B = torch.tensor([[7,10],\n",
    "                        [8,11],\n",
    "                        [9,12]])\n"
   ]
  },
  {
   "cell_type": "markdown",
   "id": "bfc57835",
   "metadata": {},
   "source": [
    "To fix the shape errors, we can manipulate the shape of one of the tensor using a **transpose**\n",
    "\n",
    "A **transpose** switches the axes or dimentions of the given tensor"
   ]
  },
  {
   "cell_type": "code",
   "execution_count": 60,
   "id": "947d0d0b",
   "metadata": {},
   "outputs": [
    {
     "name": "stdout",
     "output_type": "stream",
     "text": [
      "shape of tensor_A: torch.Size([3, 2]); shape of tensor_B: torch.Size([3, 2])\n",
      "shape of tensor_A: torch.Size([3, 2]); shape of tensor_B Transpose: torch.Size([2, 3])\n",
      "shape of tensor multiply by tensor_A and tensor_B Transpose torch.Size([3, 3])\n"
     ]
    },
    {
     "data": {
      "text/plain": [
       "tensor([[ 27,  30,  33],\n",
       "        [ 61,  68,  75],\n",
       "        [ 95, 106, 117]])"
      ]
     },
     "execution_count": 60,
     "metadata": {},
     "output_type": "execute_result"
    }
   ],
   "source": [
    "#torch.mm = torch.matmul (it's an alias for less code)\n",
    "print(f\"shape of tensor_A: {tensor_A.shape}; shape of tensor_B: {tensor_B.shape}\")\n",
    "print(f\"shape of tensor_A: {tensor_A.shape}; shape of tensor_B Transpose: {tensor_B.T.shape}\")\n",
    "print(f\"shape of tensor multiply by tensor_A and tensor_B Transpose {torch.matmul(tensor_A, tensor_B.T).shape}\")\n",
    "torch.matmul(tensor_A, tensor_B.T)"
   ]
  },
  {
   "cell_type": "markdown",
   "id": "7f692201",
   "metadata": {},
   "source": [
    "### Reshaping, stacking, squeezing and unsquezzing tenssors\n",
    "\n",
    "* reshaping - reshape an input tensor to a define shape\n",
    "* view - Return a view of an input tensor of a certain shape but keep the same memory as an original tensor\n",
    "* stacking - combine multiple tensor on top of each other (vstack) or side by side (hstack)\n",
    "* squeeze - remove all `1` dimensions from a tensor\n",
    "* unsqueeze - add `1` dimensions to a tensor\n",
    "* permute - return a view of the input with the dimensions permuted (swapped) in a certain way"
   ]
  },
  {
   "cell_type": "code",
   "execution_count": 2,
   "id": "637d8abe",
   "metadata": {},
   "outputs": [
    {
     "data": {
      "text/plain": [
       "tensor([1., 2., 3., 4., 5., 6., 7., 8., 9.])"
      ]
     },
     "execution_count": 2,
     "metadata": {},
     "output_type": "execute_result"
    }
   ],
   "source": [
    "import torch\n"
   ]
  },
  {
   "cell_type": "code",
   "execution_count": 24,
   "id": "aab23b8a",
   "metadata": {},
   "outputs": [
    {
     "data": {
      "text/plain": [
       "(tensor([ 1.,  2.,  3.,  4.,  5.,  6.,  7.,  8.,  9., 10., 11., 12.]),\n",
       " torch.Size([12]))"
      ]
     },
     "execution_count": 24,
     "metadata": {},
     "output_type": "execute_result"
    }
   ],
   "source": [
    "x= torch.arange(1.,13)\n",
    "x, x.shape"
   ]
  },
  {
   "cell_type": "code",
   "execution_count": 22,
   "id": "7c1629f2",
   "metadata": {},
   "outputs": [
    {
     "data": {
      "text/plain": [
       "(tensor([[[10., 10.],\n",
       "          [ 3.,  4.]],\n",
       " \n",
       "         [[10., 10.],\n",
       "          [ 7.,  8.]],\n",
       " \n",
       "         [[10., 10.],\n",
       "          [11., 12.]]]),\n",
       " torch.Size([3, 2, 2]))"
      ]
     },
     "execution_count": 22,
     "metadata": {},
     "output_type": "execute_result"
    }
   ],
   "source": [
    "#reshape\n",
    "x_reshaped = x.reshape(3,2,2)\n",
    "x_reshaped, x_reshaped.shape"
   ]
  },
  {
   "cell_type": "code",
   "execution_count": 25,
   "id": "34eadcc7",
   "metadata": {},
   "outputs": [
    {
     "name": "stdout",
     "output_type": "stream",
     "text": [
      "tensor([[[ 1.,  2.],\n",
      "         [ 3.,  4.]],\n",
      "\n",
      "        [[ 5.,  6.],\n",
      "         [ 7.,  8.]],\n",
      "\n",
      "        [[ 9., 10.],\n",
      "         [11., 12.]]])\n",
      "tensor([[[ 1., 10.],\n",
      "         [ 3.,  4.]],\n",
      "\n",
      "        [[ 5., 10.],\n",
      "         [ 7.,  8.]],\n",
      "\n",
      "        [[ 9., 10.],\n",
      "         [11., 12.]]])\n",
      "tensor([ 1., 10.,  3.,  4.,  5., 10.,  7.,  8.,  9., 10., 11., 12.])\n"
     ]
    }
   ],
   "source": [
    "#view - the parameter using view share the same memory with the original\n",
    "z = x.view(3,2,2)\n",
    "print(z)\n",
    "#change the value of z\n",
    "z[:,0,1] = 10\n",
    "print(z)\n",
    "print(x)"
   ]
  },
  {
   "cell_type": "code",
   "execution_count": 35,
   "id": "266d387c",
   "metadata": {},
   "outputs": [
    {
     "data": {
      "text/plain": [
       "tensor([[ 1.,  2.,  3.,  4.,  5.,  6.,  7.,  8.,  9., 10., 11., 12.],\n",
       "        [ 1.,  2.,  3.,  4.,  5.,  6.,  7.,  8.,  9., 10., 11., 12.],\n",
       "        [ 1.,  2.,  3.,  4.,  5.,  6.,  7.,  8.,  9., 10., 11., 12.],\n",
       "        [ 1.,  2.,  3.,  4.,  5.,  6.,  7.,  8.,  9., 10., 11., 12.]])"
      ]
     },
     "execution_count": 35,
     "metadata": {},
     "output_type": "execute_result"
    }
   ],
   "source": [
    "#stack tensor on each other\n",
    "x= torch.arange(1.,13)\n",
    "x_stacked = torch.stack([x,x,x,x], dim = 0)\n",
    "x_stacked"
   ]
  },
  {
   "cell_type": "code",
   "execution_count": 40,
   "id": "83e90a2c",
   "metadata": {},
   "outputs": [
    {
     "name": "stdout",
     "output_type": "stream",
     "text": [
      "torch.Size([1, 4, 3, 1])\n",
      "tensor([[[[ 1.],\n",
      "          [ 2.],\n",
      "          [ 3.]],\n",
      "\n",
      "         [[ 4.],\n",
      "          [ 5.],\n",
      "          [ 6.]],\n",
      "\n",
      "         [[ 7.],\n",
      "          [ 8.],\n",
      "          [ 9.]],\n",
      "\n",
      "         [[10.],\n",
      "          [11.],\n",
      "          [12.]]]])\n",
      "tensor([[ 1.,  2.,  3.],\n",
      "        [ 4.,  5.,  6.],\n",
      "        [ 7.,  8.,  9.],\n",
      "        [10., 11., 12.]])\n",
      "torch.Size([4, 3])\n"
     ]
    }
   ],
   "source": [
    "#squeeze\n",
    "tmp_x = x.reshape(1,4,3,1)\n",
    "print(tmp_x.shape)\n",
    "print(tmp_x)\n",
    "x_squeezed = torch.squeeze(tmp_x)\n",
    "print(x_squeezed)\n",
    "print(x_squeezed.shape)"
   ]
  },
  {
   "cell_type": "code",
   "execution_count": 49,
   "id": "ca8d30ea",
   "metadata": {},
   "outputs": [
    {
     "data": {
      "text/plain": [
       "(tensor([[[ 1.,  2.,  3.]],\n",
       " \n",
       "         [[ 4.,  5.,  6.]],\n",
       " \n",
       "         [[ 7.,  8.,  9.]],\n",
       " \n",
       "         [[10., 11., 12.]]]),\n",
       " torch.Size([4, 1, 3]))"
      ]
     },
     "execution_count": 49,
     "metadata": {},
     "output_type": "execute_result"
    }
   ],
   "source": [
    "#unsqueeze\n",
    "x_unsqueezed = torch.unsqueeze(x_squeezed,dim =1)\n",
    "x_unsqueezed, x_unsqueezed.shape"
   ]
  },
  {
   "cell_type": "code",
   "execution_count": 54,
   "id": "38546fa4",
   "metadata": {},
   "outputs": [
    {
     "name": "stdout",
     "output_type": "stream",
     "text": [
      "Previous shape torch.Size([224, 224, 3])\n",
      "New shape torch.Size([3, 224, 224])\n",
      "Reshape shape torch.Size([3, 224, 224])\n"
     ]
    }
   ],
   "source": [
    "#torch.permute - rearange the dimensions of a target tensor in a specific order\n",
    "x_original = torch.rand(size=(224,224,3)) # [height, width, color channel]\n",
    "\n",
    "#permute the original tensor to rearrange the axis (or dims) order\n",
    "x_permuted = x_original.permute(2,0,1) # [color channel, height, width]\n",
    "\n",
    "print(f\"Previous shape {x_original.shape}\")\n",
    "print(f\"New shape {x_permuted.shape}\")\n",
    "print(f\"Reshape shape {x_original.reshape(3,224,224).shape}\")"
   ]
  },
  {
   "cell_type": "code",
   "execution_count": 57,
   "id": "ea395c7e",
   "metadata": {},
   "outputs": [
    {
     "name": "stdout",
     "output_type": "stream",
     "text": [
      "tensor(0.9716)\n",
      "tensor(0.9716)\n"
     ]
    }
   ],
   "source": [
    "print(x_permuted[0,0,0])\n",
    "print(x_original.reshape(3,224,224)[0,0,0])"
   ]
  },
  {
   "cell_type": "code",
   "execution_count": 62,
   "id": "8d11f5ca",
   "metadata": {},
   "outputs": [
    {
     "data": {
      "text/plain": [
       "(tensor([[[1, 2, 3],\n",
       "          [4, 5, 6],\n",
       "          [7, 8, 9]]]),\n",
       " torch.Size([1, 3, 3]))"
      ]
     },
     "execution_count": 62,
     "metadata": {},
     "output_type": "execute_result"
    }
   ],
   "source": [
    "#indexing\n",
    "x = torch.arange(1,10).reshape(1,3,3)\n",
    "x, x.shape"
   ]
  },
  {
   "cell_type": "code",
   "execution_count": 66,
   "id": "4960a548",
   "metadata": {},
   "outputs": [
    {
     "name": "stdout",
     "output_type": "stream",
     "text": [
      "tensor(9)\n",
      "tensor([[3, 6, 9]])\n"
     ]
    }
   ],
   "source": [
    "#idnex to get the value 9\n",
    "print(x[0,2,2])\n",
    "#index to get 3,6,9\n",
    "print(x[:,:,2])"
   ]
  },
  {
   "cell_type": "markdown",
   "id": "8bdd783c",
   "metadata": {},
   "source": [
    "### Reproducibility (trying to take random out of random)\n",
    "To reduce the randomness in neural network and Pytorch come with a concept of ***random seed**\n",
    "\n",
    "Essentially what the random seed does is \"flavour\" the randomess"
   ]
  },
  {
   "cell_type": "code",
   "execution_count": 69,
   "id": "52387da3",
   "metadata": {},
   "outputs": [
    {
     "name": "stdout",
     "output_type": "stream",
     "text": [
      "tensor([[0.6844, 0.5991, 0.2753],\n",
      "        [0.0844, 0.6459, 0.0316],\n",
      "        [0.7579, 0.0040, 0.0330]])\n",
      "tensor([[0.2269, 0.5631, 0.5557],\n",
      "        [0.0326, 0.8227, 0.6887],\n",
      "        [0.2077, 0.2805, 0.9404]])\n",
      "tensor([[False, False, False],\n",
      "        [False, False, False],\n",
      "        [False, False, False]])\n"
     ]
    }
   ],
   "source": [
    "import torch\n",
    "random_tensor_A = torch.rand(3,3)\n",
    "random_tensor_B = torch.rand(3,3)\n",
    "\n",
    "print(random_tensor_A)\n",
    "print(random_tensor_B)\n",
    "print(random_tensor_A == random_tensor_B)"
   ]
  },
  {
   "cell_type": "code",
   "execution_count": 70,
   "id": "da1a75f9",
   "metadata": {},
   "outputs": [
    {
     "name": "stdout",
     "output_type": "stream",
     "text": [
      "tensor([[0.8823, 0.9150, 0.3829],\n",
      "        [0.9593, 0.3904, 0.6009],\n",
      "        [0.2566, 0.7936, 0.9408]])\n",
      "tensor([[0.8823, 0.9150, 0.3829],\n",
      "        [0.9593, 0.3904, 0.6009],\n",
      "        [0.2566, 0.7936, 0.9408]])\n",
      "tensor([[True, True, True],\n",
      "        [True, True, True],\n",
      "        [True, True, True]])\n"
     ]
    }
   ],
   "source": [
    "import torch\n",
    "RANDOM_SEED = 42\n",
    "torch.manual_seed(RANDOM_SEED)\n",
    "random_tensor_C = torch.rand(3,3)\n",
    "\n",
    "torch.manual_seed(RANDOM_SEED)\n",
    "random_tensor_D = torch.rand(3,3)\n",
    "\n",
    "print(random_tensor_C)\n",
    "print(random_tensor_D)\n",
    "print(random_tensor_C == random_tensor_D)"
   ]
  },
  {
   "cell_type": "markdown",
   "id": "039e82d4",
   "metadata": {},
   "source": [
    "### Running tensor and pytorch object on the GPUs (and making faster computation)"
   ]
  },
  {
   "cell_type": "markdown",
   "id": "032c33bc",
   "metadata": {},
   "source": [
    "### 1. Getting a GPU\n",
    "1. Esiest - Use google colab for free GPU (options to upgrae as well)\n",
    "2. Use personal GPUs - require a little bit of setup and investment of purchasing a GPU.\n",
    "3. Use cloud computing - GCP, AWS, Azure, these services allow you tor rent computer on the cloud and access them\n",
    "\n",
    "For 2, and 3 Pytorch + GPU driver (CUDA) takes a little bits of setting up, to do this, refer to Pytorch setup documentation "
   ]
  },
  {
   "cell_type": "markdown",
   "id": "9ce0ab43",
   "metadata": {},
   "source": [
    "### 2. Check for Pytorch GPU access"
   ]
  },
  {
   "cell_type": "code",
   "execution_count": 72,
   "id": "adf1281a",
   "metadata": {},
   "outputs": [
    {
     "data": {
      "text/plain": [
       "True"
      ]
     },
     "execution_count": 72,
     "metadata": {},
     "output_type": "execute_result"
    }
   ],
   "source": [
    "###Check the gpu access\n",
    "import torch\n",
    "torch.cuda.is_available()"
   ]
  },
  {
   "cell_type": "markdown",
   "id": "9daf78ee",
   "metadata": {},
   "source": [
    "For Pytorch, since it's available of running compute on both GPU and CPU, it's best practice to setup device agnostic code\n",
    "\n",
    "E.g. run on GPU if available, else default CPU "
   ]
  },
  {
   "cell_type": "code",
   "execution_count": 80,
   "id": "61164dc4",
   "metadata": {},
   "outputs": [
    {
     "data": {
      "text/plain": [
       "'cuda'"
      ]
     },
     "execution_count": 80,
     "metadata": {},
     "output_type": "execute_result"
    }
   ],
   "source": [
    "###Setup the device agnostic code\n",
    "device = 'cuda' if torch.cuda.is_available() else 'cpu'\n",
    "device"
   ]
  },
  {
   "cell_type": "code",
   "execution_count": 81,
   "id": "a7866b39",
   "metadata": {},
   "outputs": [
    {
     "data": {
      "text/plain": [
       "1"
      ]
     },
     "execution_count": 81,
     "metadata": {},
     "output_type": "execute_result"
    }
   ],
   "source": [
    "###Check the number of gpu device\n",
    "torch.cuda.device_count()"
   ]
  },
  {
   "cell_type": "markdown",
   "id": "5e122959",
   "metadata": {},
   "source": [
    "### 3. Putting tensor/model on GPU"
   ]
  },
  {
   "cell_type": "code",
   "execution_count": 78,
   "id": "46a9613b",
   "metadata": {},
   "outputs": [
    {
     "name": "stdout",
     "output_type": "stream",
     "text": [
      "tensor([1, 2, 3, 4]) cpu\n"
     ]
    }
   ],
   "source": [
    "tensor = torch.tensor([1,2,3,4])\n",
    "print(tensor, tensor.device)"
   ]
  },
  {
   "cell_type": "code",
   "execution_count": 82,
   "id": "38952fb0",
   "metadata": {},
   "outputs": [
    {
     "data": {
      "text/plain": [
       "tensor([1, 2, 3, 4], device='cuda:0')"
      ]
     },
     "execution_count": 82,
     "metadata": {},
     "output_type": "execute_result"
    }
   ],
   "source": [
    "##moving tensor to gpu\n",
    "tensor_on_gpu = tensor.to(device)\n",
    "tensor_on_gpu"
   ]
  },
  {
   "cell_type": "markdown",
   "id": "d5100aef",
   "metadata": {},
   "source": [
    "### 4. Moving tensor back to cpu"
   ]
  },
  {
   "cell_type": "code",
   "execution_count": 84,
   "id": "73eb4fac",
   "metadata": {},
   "outputs": [
    {
     "data": {
      "text/plain": [
       "array([1, 2, 3, 4], dtype=int64)"
      ]
     },
     "execution_count": 84,
     "metadata": {},
     "output_type": "execute_result"
    }
   ],
   "source": [
    "#If tensor is on gpu, can't transform it to numpy\n",
    "#first set the tensor to cpu\n",
    "tensor_back_on_cpu = tensor_on_gpu.cpu()\n",
    "tensor_back_on_cpu.numpy()"
   ]
  },
  {
   "cell_type": "markdown",
   "id": "593c613c",
   "metadata": {},
   "source": [
    "### Ecercite"
   ]
  },
  {
   "cell_type": "code",
   "execution_count": null,
   "id": "49e61ee3",
   "metadata": {},
   "outputs": [],
   "source": []
  }
 ],
 "metadata": {
  "kernelspec": {
   "display_name": "Python 3 (ipykernel)",
   "language": "python",
   "name": "python3"
  },
  "language_info": {
   "codemirror_mode": {
    "name": "ipython",
    "version": 3
   },
   "file_extension": ".py",
   "mimetype": "text/x-python",
   "name": "python",
   "nbconvert_exporter": "python",
   "pygments_lexer": "ipython3",
   "version": "3.8.10"
  }
 },
 "nbformat": 4,
 "nbformat_minor": 5
}
