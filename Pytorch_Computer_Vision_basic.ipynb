{
 "cells": [
  {
   "cell_type": "markdown",
   "id": "bde781f5",
   "metadata": {},
   "source": [
    "## 0. Pytorch libraries for computer vision\n",
    "\n",
    "* `torchvision` - https://pytorch.org/vision/stable/index.html\n",
    "* `torchvision.datasets` - get datasets and data loading functions for computer vision\n",
    "* `torchvision.models` - get pretrained cimputer vision model that you can leverange for your projects\n",
    "* `torchvision.transform` - functions for manipulating your vision data (images) to be suitable for your model\n",
    "* `torchvision.utils.data.Dataset` - Base dataset class for Pytorch\n",
    "* `torchvision.utils.data.DataLoader` - Create a Python iterable over the dataset\n"
   ]
  },
  {
   "cell_type": "code",
   "execution_count": 1,
   "id": "1e94d649",
   "metadata": {},
   "outputs": [
    {
     "name": "stderr",
     "output_type": "stream",
     "text": [
      "d:\\work\\personal-projects\\pytorch-nlp\\pytorch\\lib\\site-packages\\tqdm\\auto.py:21: TqdmWarning: IProgress not found. Please update jupyter and ipywidgets. See https://ipywidgets.readthedocs.io/en/stable/user_install.html\n",
      "  from .autonotebook import tqdm as notebook_tqdm\n"
     ]
    },
    {
     "name": "stdout",
     "output_type": "stream",
     "text": [
      "1.13.1+cu117\n",
      "0.14.1+cu117\n"
     ]
    }
   ],
   "source": [
    "#import libraries\n",
    "import torch\n",
    "from torch import nn\n",
    "\n",
    "import torchvision\n",
    "from torchvision import datasets\n",
    "from torchvision import transforms\n",
    "from torchvision.transforms import ToTensor\n",
    "\n",
    "import matplotlib.pyplot as plt\n",
    "\n",
    "##check version\n",
    "print(torch.__version__)\n",
    "print(torchvision.__version__)"
   ]
  },
  {
   "cell_type": "markdown",
   "id": "cec1b467",
   "metadata": {},
   "source": [
    "## 1. Getting the dataset\n",
    "\n",
    "The dataset is using is FashionMNIST from torchvision dataset"
   ]
  },
  {
   "cell_type": "code",
   "execution_count": 2,
   "id": "eae237fc",
   "metadata": {},
   "outputs": [],
   "source": [
    "#settup training data\n",
    "from torchvision import datasets\n",
    "train_data = datasets.FashionMNIST(\n",
    "    root = \"data\", #where to download data to\n",
    "    train=True, #do we want the training dataset ?\n",
    "    download = False, #do we want to download the dataset ?\n",
    "    transform = torchvision.transforms.ToTensor(), #how do we want to transform the data ?\n",
    "    target_transform = None #how do we want to transform the label/target ?    \n",
    ")\n",
    "\n",
    "test_data = datasets.FashionMNIST(\n",
    "    root = \"data\",\n",
    "    train = False,\n",
    "    download = False,\n",
    "    transform = ToTensor(),\n",
    "    target_transform = None\n",
    ")"
   ]
  },
  {
   "cell_type": "code",
   "execution_count": 3,
   "id": "8be2131a",
   "metadata": {},
   "outputs": [
    {
     "name": "stdout",
     "output_type": "stream",
     "text": [
      "60000 10000\n"
     ]
    }
   ],
   "source": [
    "print(len(train_data), len(test_data))"
   ]
  },
  {
   "cell_type": "code",
   "execution_count": 4,
   "id": "dbab29ab",
   "metadata": {},
   "outputs": [
    {
     "name": "stdout",
     "output_type": "stream",
     "text": [
      "<class 'torchvision.datasets.mnist.FashionMNIST'>\n",
      "tensor([[[0.0000, 0.0000, 0.0000, 0.0000, 0.0000, 0.0000, 0.0000, 0.0000,\n",
      "          0.0000, 0.0000, 0.0000, 0.0000, 0.0000, 0.0000, 0.0000, 0.0000,\n",
      "          0.0000, 0.0000, 0.0000, 0.0000, 0.0000, 0.0000, 0.0000, 0.0000,\n",
      "          0.0000, 0.0000, 0.0000, 0.0000],\n",
      "         [0.0000, 0.0000, 0.0000, 0.0000, 0.0000, 0.0000, 0.0000, 0.0000,\n",
      "          0.0000, 0.0000, 0.0000, 0.0000, 0.0000, 0.0000, 0.0000, 0.0000,\n",
      "          0.0000, 0.0000, 0.0000, 0.0000, 0.0000, 0.0000, 0.0000, 0.0000,\n",
      "          0.0000, 0.0000, 0.0000, 0.0000],\n",
      "         [0.0000, 0.0000, 0.0000, 0.0000, 0.0000, 0.0000, 0.0000, 0.0000,\n",
      "          0.0000, 0.0000, 0.0000, 0.0000, 0.0000, 0.0000, 0.0000, 0.0000,\n",
      "          0.0000, 0.0000, 0.0000, 0.0000, 0.0000, 0.0000, 0.0000, 0.0000,\n",
      "          0.0000, 0.0000, 0.0000, 0.0000],\n",
      "         [0.0000, 0.0000, 0.0000, 0.0000, 0.0000, 0.0000, 0.0000, 0.0000,\n",
      "          0.0000, 0.0000, 0.0000, 0.0000, 0.0039, 0.0000, 0.0000, 0.0510,\n",
      "          0.2863, 0.0000, 0.0000, 0.0039, 0.0157, 0.0000, 0.0000, 0.0000,\n",
      "          0.0000, 0.0039, 0.0039, 0.0000],\n",
      "         [0.0000, 0.0000, 0.0000, 0.0000, 0.0000, 0.0000, 0.0000, 0.0000,\n",
      "          0.0000, 0.0000, 0.0000, 0.0000, 0.0118, 0.0000, 0.1412, 0.5333,\n",
      "          0.4980, 0.2431, 0.2118, 0.0000, 0.0000, 0.0000, 0.0039, 0.0118,\n",
      "          0.0157, 0.0000, 0.0000, 0.0118],\n",
      "         [0.0000, 0.0000, 0.0000, 0.0000, 0.0000, 0.0000, 0.0000, 0.0000,\n",
      "          0.0000, 0.0000, 0.0000, 0.0000, 0.0235, 0.0000, 0.4000, 0.8000,\n",
      "          0.6902, 0.5255, 0.5647, 0.4824, 0.0902, 0.0000, 0.0000, 0.0000,\n",
      "          0.0000, 0.0471, 0.0392, 0.0000],\n",
      "         [0.0000, 0.0000, 0.0000, 0.0000, 0.0000, 0.0000, 0.0000, 0.0000,\n",
      "          0.0000, 0.0000, 0.0000, 0.0000, 0.0000, 0.0000, 0.6078, 0.9255,\n",
      "          0.8118, 0.6980, 0.4196, 0.6118, 0.6314, 0.4275, 0.2510, 0.0902,\n",
      "          0.3020, 0.5098, 0.2824, 0.0588],\n",
      "         [0.0000, 0.0000, 0.0000, 0.0000, 0.0000, 0.0000, 0.0000, 0.0000,\n",
      "          0.0000, 0.0000, 0.0000, 0.0039, 0.0000, 0.2706, 0.8118, 0.8745,\n",
      "          0.8549, 0.8471, 0.8471, 0.6392, 0.4980, 0.4745, 0.4784, 0.5725,\n",
      "          0.5529, 0.3451, 0.6745, 0.2588],\n",
      "         [0.0000, 0.0000, 0.0000, 0.0000, 0.0000, 0.0000, 0.0000, 0.0000,\n",
      "          0.0000, 0.0039, 0.0039, 0.0039, 0.0000, 0.7843, 0.9098, 0.9098,\n",
      "          0.9137, 0.8980, 0.8745, 0.8745, 0.8431, 0.8353, 0.6431, 0.4980,\n",
      "          0.4824, 0.7686, 0.8980, 0.0000],\n",
      "         [0.0000, 0.0000, 0.0000, 0.0000, 0.0000, 0.0000, 0.0000, 0.0000,\n",
      "          0.0000, 0.0000, 0.0000, 0.0000, 0.0000, 0.7176, 0.8824, 0.8471,\n",
      "          0.8745, 0.8941, 0.9216, 0.8902, 0.8784, 0.8706, 0.8784, 0.8667,\n",
      "          0.8745, 0.9608, 0.6784, 0.0000],\n",
      "         [0.0000, 0.0000, 0.0000, 0.0000, 0.0000, 0.0000, 0.0000, 0.0000,\n",
      "          0.0000, 0.0000, 0.0000, 0.0000, 0.0000, 0.7569, 0.8941, 0.8549,\n",
      "          0.8353, 0.7765, 0.7059, 0.8314, 0.8235, 0.8275, 0.8353, 0.8745,\n",
      "          0.8627, 0.9529, 0.7922, 0.0000],\n",
      "         [0.0000, 0.0000, 0.0000, 0.0000, 0.0000, 0.0000, 0.0000, 0.0000,\n",
      "          0.0000, 0.0039, 0.0118, 0.0000, 0.0471, 0.8588, 0.8627, 0.8314,\n",
      "          0.8549, 0.7529, 0.6627, 0.8902, 0.8157, 0.8549, 0.8784, 0.8314,\n",
      "          0.8863, 0.7725, 0.8196, 0.2039],\n",
      "         [0.0000, 0.0000, 0.0000, 0.0000, 0.0000, 0.0000, 0.0000, 0.0000,\n",
      "          0.0000, 0.0000, 0.0235, 0.0000, 0.3882, 0.9569, 0.8706, 0.8627,\n",
      "          0.8549, 0.7961, 0.7765, 0.8667, 0.8431, 0.8353, 0.8706, 0.8627,\n",
      "          0.9608, 0.4667, 0.6549, 0.2196],\n",
      "         [0.0000, 0.0000, 0.0000, 0.0000, 0.0000, 0.0000, 0.0000, 0.0000,\n",
      "          0.0000, 0.0157, 0.0000, 0.0000, 0.2157, 0.9255, 0.8941, 0.9020,\n",
      "          0.8941, 0.9412, 0.9098, 0.8353, 0.8549, 0.8745, 0.9176, 0.8510,\n",
      "          0.8510, 0.8196, 0.3608, 0.0000],\n",
      "         [0.0000, 0.0000, 0.0039, 0.0157, 0.0235, 0.0275, 0.0078, 0.0000,\n",
      "          0.0000, 0.0000, 0.0000, 0.0000, 0.9294, 0.8863, 0.8510, 0.8745,\n",
      "          0.8706, 0.8588, 0.8706, 0.8667, 0.8471, 0.8745, 0.8980, 0.8431,\n",
      "          0.8549, 1.0000, 0.3020, 0.0000],\n",
      "         [0.0000, 0.0118, 0.0000, 0.0000, 0.0000, 0.0000, 0.0000, 0.0000,\n",
      "          0.0000, 0.2431, 0.5686, 0.8000, 0.8941, 0.8118, 0.8353, 0.8667,\n",
      "          0.8549, 0.8157, 0.8275, 0.8549, 0.8784, 0.8745, 0.8588, 0.8431,\n",
      "          0.8784, 0.9569, 0.6235, 0.0000],\n",
      "         [0.0000, 0.0000, 0.0000, 0.0000, 0.0706, 0.1725, 0.3216, 0.4196,\n",
      "          0.7412, 0.8941, 0.8627, 0.8706, 0.8510, 0.8863, 0.7843, 0.8039,\n",
      "          0.8275, 0.9020, 0.8784, 0.9176, 0.6902, 0.7373, 0.9804, 0.9725,\n",
      "          0.9137, 0.9333, 0.8431, 0.0000],\n",
      "         [0.0000, 0.2235, 0.7333, 0.8157, 0.8784, 0.8667, 0.8784, 0.8157,\n",
      "          0.8000, 0.8392, 0.8157, 0.8196, 0.7843, 0.6235, 0.9608, 0.7569,\n",
      "          0.8078, 0.8745, 1.0000, 1.0000, 0.8667, 0.9176, 0.8667, 0.8275,\n",
      "          0.8627, 0.9098, 0.9647, 0.0000],\n",
      "         [0.0118, 0.7922, 0.8941, 0.8784, 0.8667, 0.8275, 0.8275, 0.8392,\n",
      "          0.8039, 0.8039, 0.8039, 0.8627, 0.9412, 0.3137, 0.5882, 1.0000,\n",
      "          0.8980, 0.8667, 0.7373, 0.6039, 0.7490, 0.8235, 0.8000, 0.8196,\n",
      "          0.8706, 0.8941, 0.8824, 0.0000],\n",
      "         [0.3843, 0.9137, 0.7765, 0.8235, 0.8706, 0.8980, 0.8980, 0.9176,\n",
      "          0.9765, 0.8627, 0.7608, 0.8431, 0.8510, 0.9451, 0.2549, 0.2863,\n",
      "          0.4157, 0.4588, 0.6588, 0.8588, 0.8667, 0.8431, 0.8510, 0.8745,\n",
      "          0.8745, 0.8784, 0.8980, 0.1137],\n",
      "         [0.2941, 0.8000, 0.8314, 0.8000, 0.7569, 0.8039, 0.8275, 0.8824,\n",
      "          0.8471, 0.7255, 0.7725, 0.8078, 0.7765, 0.8353, 0.9412, 0.7647,\n",
      "          0.8902, 0.9608, 0.9373, 0.8745, 0.8549, 0.8314, 0.8196, 0.8706,\n",
      "          0.8627, 0.8667, 0.9020, 0.2627],\n",
      "         [0.1882, 0.7961, 0.7176, 0.7608, 0.8353, 0.7725, 0.7255, 0.7451,\n",
      "          0.7608, 0.7529, 0.7922, 0.8392, 0.8588, 0.8667, 0.8627, 0.9255,\n",
      "          0.8824, 0.8471, 0.7804, 0.8078, 0.7294, 0.7098, 0.6941, 0.6745,\n",
      "          0.7098, 0.8039, 0.8078, 0.4510],\n",
      "         [0.0000, 0.4784, 0.8588, 0.7569, 0.7020, 0.6706, 0.7176, 0.7686,\n",
      "          0.8000, 0.8235, 0.8353, 0.8118, 0.8275, 0.8235, 0.7843, 0.7686,\n",
      "          0.7608, 0.7490, 0.7647, 0.7490, 0.7765, 0.7529, 0.6902, 0.6118,\n",
      "          0.6549, 0.6941, 0.8235, 0.3608],\n",
      "         [0.0000, 0.0000, 0.2902, 0.7412, 0.8314, 0.7490, 0.6863, 0.6745,\n",
      "          0.6863, 0.7098, 0.7255, 0.7373, 0.7412, 0.7373, 0.7569, 0.7765,\n",
      "          0.8000, 0.8196, 0.8235, 0.8235, 0.8275, 0.7373, 0.7373, 0.7608,\n",
      "          0.7529, 0.8471, 0.6667, 0.0000],\n",
      "         [0.0078, 0.0000, 0.0000, 0.0000, 0.2588, 0.7843, 0.8706, 0.9294,\n",
      "          0.9373, 0.9490, 0.9647, 0.9529, 0.9569, 0.8667, 0.8627, 0.7569,\n",
      "          0.7490, 0.7020, 0.7137, 0.7137, 0.7098, 0.6902, 0.6510, 0.6588,\n",
      "          0.3882, 0.2275, 0.0000, 0.0000],\n",
      "         [0.0000, 0.0000, 0.0000, 0.0000, 0.0000, 0.0000, 0.0000, 0.1569,\n",
      "          0.2392, 0.1725, 0.2824, 0.1608, 0.1373, 0.0000, 0.0000, 0.0000,\n",
      "          0.0000, 0.0000, 0.0000, 0.0000, 0.0000, 0.0000, 0.0000, 0.0000,\n",
      "          0.0000, 0.0000, 0.0000, 0.0000],\n",
      "         [0.0000, 0.0000, 0.0000, 0.0000, 0.0000, 0.0000, 0.0000, 0.0000,\n",
      "          0.0000, 0.0000, 0.0000, 0.0000, 0.0000, 0.0000, 0.0000, 0.0000,\n",
      "          0.0000, 0.0000, 0.0000, 0.0000, 0.0000, 0.0000, 0.0000, 0.0000,\n",
      "          0.0000, 0.0000, 0.0000, 0.0000],\n",
      "         [0.0000, 0.0000, 0.0000, 0.0000, 0.0000, 0.0000, 0.0000, 0.0000,\n",
      "          0.0000, 0.0000, 0.0000, 0.0000, 0.0000, 0.0000, 0.0000, 0.0000,\n",
      "          0.0000, 0.0000, 0.0000, 0.0000, 0.0000, 0.0000, 0.0000, 0.0000,\n",
      "          0.0000, 0.0000, 0.0000, 0.0000]]]) 9\n"
     ]
    }
   ],
   "source": [
    "##see the first training sample\n",
    "print(type(train_data))\n",
    "sample_image, sample_label = train_data[0]\n",
    "print(sample_image, sample_label)"
   ]
  },
  {
   "cell_type": "code",
   "execution_count": 5,
   "id": "6ccad92b",
   "metadata": {},
   "outputs": [
    {
     "name": "stdout",
     "output_type": "stream",
     "text": [
      "['T-shirt/top', 'Trouser', 'Pullover', 'Dress', 'Coat', 'Sandal', 'Shirt', 'Sneaker', 'Bag', 'Ankle boot']\n"
     ]
    }
   ],
   "source": [
    "class_names = train_data.classes\n",
    "print(class_names)"
   ]
  },
  {
   "cell_type": "code",
   "execution_count": 6,
   "id": "e7919922",
   "metadata": {},
   "outputs": [
    {
     "name": "stdout",
     "output_type": "stream",
     "text": [
      "tensor([9, 0, 0,  ..., 3, 0, 5])\n"
     ]
    }
   ],
   "source": [
    "print(train_data.targets)"
   ]
  },
  {
   "cell_type": "code",
   "execution_count": 7,
   "id": "a44feeae",
   "metadata": {},
   "outputs": [
    {
     "data": {
      "text/plain": [
       "{'T-shirt/top': 0,\n",
       " 'Trouser': 1,\n",
       " 'Pullover': 2,\n",
       " 'Dress': 3,\n",
       " 'Coat': 4,\n",
       " 'Sandal': 5,\n",
       " 'Shirt': 6,\n",
       " 'Sneaker': 7,\n",
       " 'Bag': 8,\n",
       " 'Ankle boot': 9}"
      ]
     },
     "execution_count": 7,
     "metadata": {},
     "output_type": "execute_result"
    }
   ],
   "source": [
    "class_to_idx = train_data.class_to_idx\n",
    "class_to_idx"
   ]
  },
  {
   "cell_type": "markdown",
   "id": "4494b467",
   "metadata": {},
   "source": [
    "### 1.1 Check input and output shape of the data"
   ]
  },
  {
   "cell_type": "code",
   "execution_count": 8,
   "id": "3e1a809e",
   "metadata": {},
   "outputs": [
    {
     "name": "stdout",
     "output_type": "stream",
     "text": [
      "Image shape: torch.Size([1, 28, 28]) -> [color_channels, height, width]\n",
      "Image label: 9\n"
     ]
    }
   ],
   "source": [
    "##checking the shape of training sample\n",
    "print(f\"Image shape: {sample_image.shape} -> [color_channels, height, width]\")\n",
    "print(f\"Image label: {sample_label}\")"
   ]
  },
  {
   "cell_type": "markdown",
   "id": "d935a53d",
   "metadata": {},
   "source": [
    "### 1.2 Visualizing data"
   ]
  },
  {
   "cell_type": "code",
   "execution_count": 9,
   "id": "387372d9",
   "metadata": {},
   "outputs": [
    {
     "name": "stdout",
     "output_type": "stream",
     "text": [
      "Image shape: ftorch.Size([1, 28, 28])\n"
     ]
    },
    {
     "data": {
      "text/plain": [
       "<matplotlib.image.AxesImage at 0x13d227118e0>"
      ]
     },
     "execution_count": 9,
     "metadata": {},
     "output_type": "execute_result"
    },
    {
     "data": {
      "image/png": "[encoded data removed]",
      "text/plain": [
       "<Figure size 640x480 with 1 Axes>"
      ]
     },
     "metadata": {},
     "output_type": "display_data"
    }
   ],
   "source": [
    "sample_image, sample_label = train_data[0]\n",
    "print(f\"Image shape: f{sample_image.shape}\")\n",
    "##show image\n",
    "plt.imshow(sample_image.squeeze()) # squeeze to remove the shape error"
   ]
  },
  {
   "cell_type": "code",
   "execution_count": 10,
   "id": "edf71518",
   "metadata": {},
   "outputs": [
    {
     "data": {
      "text/plain": [
       "(-0.5, 27.5, 27.5, -0.5)"
      ]
     },
     "execution_count": 10,
     "metadata": {},
     "output_type": "execute_result"
    },
    {
     "data": {
      "image/png": "[encoded data removed]",
      "text/plain": [
       "<Figure size 640x480 with 1 Axes>"
      ]
     },
     "metadata": {},
     "output_type": "display_data"
    }
   ],
   "source": [
    "plt.imshow(sample_image.squeeze(), cmap ='gray')\n",
    "plt.title(class_names[sample_label])\n",
    "plt.axis(False)"
   ]
  },
  {
   "cell_type": "code",
   "execution_count": 11,
   "id": "20c9284a",
   "metadata": {
    "scrolled": true
   },
   "outputs": [
    {
     "data": {
      "image/png": "[encoded data removed]",
      "text/plain": [
       "<Figure size 900x1200 with 16 Axes>"
      ]
     },
     "metadata": {},
     "output_type": "display_data"
    }
   ],
   "source": [
    "## Plot more image\n",
    "#torch.manual_seed(42)\n",
    "fig = plt.figure(figsize = (9,12))\n",
    "rows, cols = 4,4\n",
    "for i in range(1,  rows*cols +1):\n",
    "    random_idx = torch.randint(0, len(train_data), size = [1]).item()\n",
    "    fig.add_subplot(rows, cols, i)\n",
    "    tmp_img, tmp_label = train_data[random_idx]\n",
    "    plt.imshow(tmp_img.squeeze(), cmap ='gray')    \n",
    "    plt.title(class_names[tmp_label])\n",
    "    plt.axis(False)"
   ]
  },
  {
   "cell_type": "code",
   "execution_count": 12,
   "id": "b76583eb",
   "metadata": {},
   "outputs": [
    {
     "data": {
      "text/plain": [
       "(Dataset FashionMNIST\n",
       "     Number of datapoints: 60000\n",
       "     Root location: data\n",
       "     Split: Train\n",
       "     StandardTransform\n",
       " Transform: ToTensor(),\n",
       " Dataset FashionMNIST\n",
       "     Number of datapoints: 10000\n",
       "     Root location: data\n",
       "     Split: Test\n",
       "     StandardTransform\n",
       " Transform: ToTensor())"
      ]
     },
     "execution_count": 12,
     "metadata": {},
     "output_type": "execute_result"
    }
   ],
   "source": [
    "train_data, test_data"
   ]
  },
  {
   "cell_type": "markdown",
   "id": "43f21083",
   "metadata": {},
   "source": [
    "## 2.Prepare dataloader\n",
    "\n",
    "Right now, our dataset is in the form of Pytorch Datasets.\n",
    "\n",
    "DataLoader turns ourd dataset into Python iterable.\n",
    "\n",
    "More specificcally, we want to turn our data into batches (mini-batches).\n",
    "\n",
    "Why would we do this ?\n",
    "1. It is more computationally efficient, as in, your computing hardware may not be able to look (store in memory) at 60k images in one hit. So we break it down to 32 images at a time (batchsize is 32)\n",
    "2. It give our Neural Network more chances to update its gradients per epoch."
   ]
  },
  {
   "cell_type": "code",
   "execution_count": 13,
   "id": "f1eb6c9f",
   "metadata": {},
   "outputs": [
    {
     "data": {
      "text/plain": [
       "(<torch.utils.data.dataloader.DataLoader at 0x13d22d6e9d0>,\n",
       " <torch.utils.data.dataloader.DataLoader at 0x13d22d6e9a0>)"
      ]
     },
     "execution_count": 13,
     "metadata": {},
     "output_type": "execute_result"
    }
   ],
   "source": [
    "from torch.utils.data import DataLoader\n",
    "\n",
    "#setup the hyper parameters\n",
    "BATCH_SIZE =32\n",
    "\n",
    "#turn dataset into iterables (batches)\n",
    "train_dataloader = DataLoader(train_data, \n",
    "                             batch_size = BATCH_SIZE,\n",
    "                             shuffle = True)\n",
    "\n",
    "test_dataloader = DataLoader(test_data,\n",
    "                            batch_size = BATCH_SIZE,\n",
    "                            shuffle = False)\n",
    "\n",
    "train_dataloader, test_dataloader"
   ]
  },
  {
   "cell_type": "code",
   "execution_count": 14,
   "id": "e9ba87ed",
   "metadata": {},
   "outputs": [
    {
     "name": "stdout",
     "output_type": "stream",
     "text": [
      "Data loader:  <torch.utils.data.dataloader.DataLoader object at 0x0000013D22D6E9D0> <torch.utils.data.dataloader.DataLoader object at 0x0000013D22D6E9A0>\n",
      "Number of training 1875 batches with batch size f32\n",
      "Number of test 313 batches with batch size f32\n"
     ]
    }
   ],
   "source": [
    "#  Let's checkout what we've created\n",
    "print(\"Data loader: \",train_dataloader, test_dataloader)\n",
    "print(f\"Number of training {len(train_dataloader)} batches with batch size f{BATCH_SIZE}\")\n",
    "print(f\"Number of test {len(test_dataloader)} batches with batch size f{BATCH_SIZE}\")"
   ]
  },
  {
   "cell_type": "code",
   "execution_count": 15,
   "id": "1e219dfb",
   "metadata": {},
   "outputs": [
    {
     "name": "stdout",
     "output_type": "stream",
     "text": [
      "Shape of one batch of image: torch.Size([32, 1, 28, 28])\n",
      "Shape of one batch of label: torch.Size([32])\n"
     ]
    }
   ],
   "source": [
    "### checking inside of a batch\n",
    "train_image_batch, train_label_batch = next(iter(train_dataloader))\n",
    "print(f\"Shape of one batch of image: {train_image_batch.shape}\")\n",
    "print(f\"Shape of one batch of label: {train_label_batch.shape}\")"
   ]
  },
  {
   "cell_type": "code",
   "execution_count": 16,
   "id": "07797c01",
   "metadata": {},
   "outputs": [
    {
     "name": "stdout",
     "output_type": "stream",
     "text": [
      "Shape of image: torch.Size([1, 28, 28])\n",
      "Shape of image: torch.Size([1, 28, 28])\n",
      "Shape of image: torch.Size([1, 28, 28])\n",
      "Shape of image: torch.Size([1, 28, 28])\n",
      "Shape of image: torch.Size([1, 28, 28])\n",
      "Shape of image: torch.Size([1, 28, 28])\n",
      "Shape of image: torch.Size([1, 28, 28])\n",
      "Shape of image: torch.Size([1, 28, 28])\n",
      "Shape of image: torch.Size([1, 28, 28])\n",
      "Shape of image: torch.Size([1, 28, 28])\n",
      "Shape of image: torch.Size([1, 28, 28])\n",
      "Shape of image: torch.Size([1, 28, 28])\n",
      "Shape of image: torch.Size([1, 28, 28])\n",
      "Shape of image: torch.Size([1, 28, 28])\n",
      "Shape of image: torch.Size([1, 28, 28])\n",
      "Shape of image: torch.Size([1, 28, 28])\n"
     ]
    },
    {
     "data": {
      "image/png": "[encoded data removed]",
      "text/plain": [
       "<Figure size 900x1200 with 16 Axes>"
      ]
     },
     "metadata": {},
     "output_type": "display_data"
    }
   ],
   "source": [
    "### show a sample\n",
    "#torch.manual_seed(42)\n",
    "rows, cols = 4,4\n",
    "fig = plt.figure(figsize = (9,12))\n",
    "for i in range(1,rows*cols +1):\n",
    "    random_idx = torch.randint(1, len(train_image_batch), size =[1]).item()\n",
    "    sample_image = train_image_batch[random_idx]\n",
    "    sample_label = train_label_batch[random_idx]\n",
    "    fig.add_subplot(rows, cols, i)\n",
    "    plt.imshow(sample_image.squeeze(), cmap='gray')\n",
    "    plt.title(class_names[sample_label])\n",
    "    plt.axis(False)\n",
    "    print(f\"Shape of image: {sample_image.shape}\")"
   ]
  },
  {
   "cell_type": "markdown",
   "id": "a61c58b8",
   "metadata": {},
   "source": [
    "## 3.Build a baseline model\n",
    "Whens srating to build a series of machine learning modeling experiments, it's best practice to start with a baseline model.\n",
    "\n",
    "A baseline model is a simple model you try and improve upon the subsequent models/experiments\n",
    "\n",
    "In other words, start simply and add complexity when necessary"
   ]
  },
  {
   "cell_type": "code",
   "execution_count": 17,
   "id": "247028b3",
   "metadata": {},
   "outputs": [],
   "source": [
    "import torch\n",
    "from torch import nn"
   ]
  },
  {
   "cell_type": "code",
   "execution_count": 18,
   "id": "995ea496",
   "metadata": {},
   "outputs": [
    {
     "data": {
      "text/plain": [
       "'cuda'"
      ]
     },
     "execution_count": 18,
     "metadata": {},
     "output_type": "execute_result"
    }
   ],
   "source": [
    "## device agnostic code\n",
    "device = 'cuda' if torch.cuda.is_available() else 'cpu'\n",
    "device"
   ]
  },
  {
   "cell_type": "code",
   "execution_count": 21,
   "id": "0d5e3ec2",
   "metadata": {},
   "outputs": [],
   "source": [
    "### create a flatten layer\n",
    "flatten_model = nn.Flatten()\n",
    "\n",
    "#get a single sample\n",
    "tmp_sample = train_image_batch[0]\n",
    "\n",
    "#flatten the sample\n",
    "output = flatten_model(tmp_sample)\n",
    "\n",
    "#print the shape\n",
    "print(f\"Shape before flatten layers: \", tmp_sample.shape , \"-> [color_channels, height, width]\")\n",
    "print(f\"Shape after flatten layers: \", output.shape , \" -> [color_channels, height*width]\")"
   ]
  },
  {
   "cell_type": "code",
   "execution_count": 22,
   "id": "8d9980fb",
   "metadata": {},
   "outputs": [],
   "source": [
    "### Building Model\n",
    "class MNISTModelV0(nn.Module):\n",
    "    def __init__(self,\n",
    "                input_shape: int,\n",
    "                output_shape: int,\n",
    "                hidden_units: int):\n",
    "        super().__init__()\n",
    "        self.layer_stack = nn.Sequential(\n",
    "            nn.Flatten(),\n",
    "            nn.Linear(in_features = input_shape, out_features = hidden_units),\n",
    "            nn.Linear(in_features = hidden_units, out_features = output_shape)\n",
    "        )\n",
    "    def forward(self, x):\n",
    "        return self.layer_stack(x)"
   ]
  },
  {
   "cell_type": "code",
   "execution_count": 23,
   "id": "bc74c584",
   "metadata": {},
   "outputs": [],
   "source": [
    "torch.manual_seed(42)\n",
    "INPUT_SHAPE = 784 #this is 28*28\n",
    "OUTPUT_SHAPE = len(class_names)\n",
    "HIDDEN_UNITS = 12\n",
    "#setup model with input parameters\n",
    "\n",
    "model_0 = MNISTModelV0(input_shape= INPUT_SHAPE,\n",
    "                        output_shape = OUTPUT_SHAPE ,\n",
    "                        hidden_units= HIDDEN_UNITS)\n",
    "model_0.to('cpu')\n",
    "model_0"
   ]
  },
  {
   "cell_type": "code",
   "execution_count": 24,
   "id": "72d670d0",
   "metadata": {},
   "outputs": [],
   "source": [
    "dummy_input = torch.rand([1,1,28,28])\n",
    "dummy_pred = model_0(dummy_input)\n",
    "dummy_pred"
   ]
  },
  {
   "cell_type": "markdown",
   "id": "ca6ca242",
   "metadata": {},
   "source": [
    "### 3.1 Setup loss function and Optimizer\n",
    "\n",
    "* Loss function - since we're working with multi-class data, our loss function will be `torch.nn.CrossEntropyLoss()`\n",
    "* Optimizer - our optimizer `torch.optim.SGD` (stochastic gradient descent)\n",
    "* Evaluation Metric - let's use accuracy for this classfication problem"
   ]
  },
  {
   "cell_type": "code",
   "execution_count": 25,
   "id": "20d59d46",
   "metadata": {},
   "outputs": [],
   "source": [
    "### setup loss\n",
    "loss_fn = nn.CrossEntropyLoss()\n",
    "\n",
    "## setup optimizer\n",
    "optimizer = torch.optim.SGD(params = model_0.parameters(),\n",
    "                           lr = 0.1)\n",
    "\n",
    "## setupo accuracy metric\n",
    "from torchmetrics import Accuracy\n",
    "accuracy_fn = Accuracy(task=\"multiclass\", num_classes=OUTPUT_SHAPE)"
   ]
  },
  {
   "cell_type": "markdown",
   "id": "ee2bcdc1",
   "metadata": {},
   "source": [
    "### 3.2 Create a function to time the experiments\n",
    "\n",
    "Machine learning is very experimentals.\n",
    "\n",
    "Two of the main things you often want to tracks are:\n",
    "1. Model's performance (loss accuracy values etc)\n",
    "2. How fast it runs"
   ]
  },
  {
   "cell_type": "code",
   "execution_count": 26,
   "id": "01f6fa35",
   "metadata": {},
   "outputs": [],
   "source": [
    "from timeit import default_timer as timer\n",
    "def print_train_time(start: float,\n",
    "                    end: float,\n",
    "                    device: torch.device = None):\n",
    "    \"\"\"Print differnt between start and end time.\"\"\"\n",
    "    total_time = end - start\n",
    "    print(f\"Train time on {device}: {total_time:.3f} seconds\")\n",
    "    return total_time"
   ]
  },
  {
   "cell_type": "code",
   "execution_count": 27,
   "id": "4ddc4a5e",
   "metadata": {},
   "outputs": [],
   "source": [
    "start_time = timer()\n",
    "end_time = timer()\n",
    "\n",
    "print_train_time(start=start_time, end =end_time, device = 'cpu')"
   ]
  },
  {
   "cell_type": "markdown",
   "id": "29dd4614",
   "metadata": {},
   "source": [
    "### 3.3 Create a training loop and train a model on batches of data\n",
    "\n",
    "1. loop through epochs.\n",
    "2. Loop through training batches, perform training steps, calulate the training loss *per batch*.\n",
    "3. Loop through testing batches, perform testing steps, calculate the testing lost *per batch*.\n",
    "4. Print out what happening\n",
    "5. Time it all"
   ]
  },
  {
   "cell_type": "code",
   "execution_count": 28,
   "id": "5c00c42a",
   "metadata": {},
   "outputs": [],
   "source": [
    "## import tqdm for progress bar\n",
    "from tqdm.auto import tqdm \n",
    "\n",
    "#set the seed and starting time\n",
    "torch.manual_seed(42)\n",
    "train_time_start_on_cpu = timer()\n",
    "\n",
    "#set the number of epochs (we'll keep this small for faster training time)\n",
    "epochs = 4\n",
    "\n",
    "# create a trainig and test loop\n",
    "for epoch in tqdm(range(epochs)):\n",
    "    print(f\"Epoch: {epoch} ----\\n\")\n",
    "    ### TRAINING\n",
    "    train_loss = 0 \n",
    "    # Add a loop through training batches\n",
    "    for batch, (image, label) in enumerate(train_dataloader):\n",
    "        model_0.train()\n",
    "        #forward pass\n",
    "        pred = model_0(image)\n",
    "\n",
    "        #calculate loss\n",
    "        loss = loss_fn(pred, label)\n",
    "        train_loss += loss #accumilate train loss\n",
    "\n",
    "        #optimizer zero grad\n",
    "        optimizer.zero_grad()\n",
    "        \n",
    "        #loss backward\n",
    "        loss.backward()\n",
    "\n",
    "        #optimizer batch\n",
    "        optimizer.step()\n",
    "\n",
    "        if batch % 400 ==0:\n",
    "            print(f\"Looked at {batch * len(image)}/{len(train_dataloader.dataset)} samples\")\n",
    "            \n",
    "    # addjust the training loss by divide the train loss by the length of the dataloader \n",
    "    train_loss /= len(train_dataloader)\n",
    "    \n",
    "    ## TESTING\n",
    "    test_loss, test_acc = 0, 0\n",
    "    model_0.eval()\n",
    "    with torch.inference_mode():\n",
    "        for test_image, test_label in test_dataloader:\n",
    "            ## forward pass\n",
    "            test_pred = model_0(test_image)\n",
    "            \n",
    "            ## calculate loss:\n",
    "            test_loss += loss_fn(test_pred, test_label)\n",
    "            test_acc += accuracy_fn(test_pred, test_label)\n",
    "        #calculate the test loss average per batch\n",
    "        test_loss /= len(test_dataloader)\n",
    "        #calculate the test acc average\n",
    "        test_acc /=  len(test_dataloader)\n",
    "    #print what happen\n",
    "    print(f\"\\nTrain loss: {train_loss:.3f} | Test_loss {test_loss:.3f} | Test Accuracy: {test_acc:.2f}\")\n",
    "\n",
    "train_time_end_on_cpu = timer()\n",
    "print(print_train_time(start =train_time_start_on_cpu,\n",
    "                      end = train_time_end_on_cpu,\n",
    "                      device = str(next(model_0.parameters()).device)))"
   ]
  },
  {
   "cell_type": "markdown",
   "id": "720941c6",
   "metadata": {},
   "source": [
    "## 4. Make prediction and get model_0 result"
   ]
  },
  {
   "cell_type": "code",
   "execution_count": 29,
   "id": "69e78397",
   "metadata": {},
   "outputs": [],
   "source": [
    "torch.manual_seed(42)\n",
    "def eval_model(model: torch.nn.Module,\n",
    "               data_loader: torch.utils.data.DataLoader,\n",
    "              loss_fn : torch.nn.Module,\n",
    "              accuracy_fn):\n",
    "    \"\"\"Return a dictionary containing the results of the model predicting on data_loader\"\"\"\n",
    "    loss, acc = 0, 0\n",
    "    model.eval()\n",
    "    with torch.inference_mode():\n",
    "        #Make prediction\n",
    "        for data, label in tqdm(data_loader):\n",
    "            y_pred = model(data)\n",
    "            \n",
    "            #accumulate the loss and acc values per batch\n",
    "            loss += loss_fn(y_pred, label)\n",
    "            acc += accuracy_fn(y_pred, label)\n",
    "        #Scale the loss and acc to find the average loss and acc per batch\n",
    "        loss /= len(data_loader)\n",
    "        acc /= len(data_loader)\n",
    "    return {\"model_name\": model.__class__.__name__ , #only work if model is create with a class\n",
    "           \"model_loss\": loss.item(),\n",
    "            \"model_acc\": acc.item()\n",
    "           }\n",
    "    "
   ]
  },
  {
   "cell_type": "code",
   "execution_count": 30,
   "id": "67dcc1db",
   "metadata": {},
   "outputs": [],
   "source": [
    "model_0_result = eval_model(model = model_0,\n",
    "                           data_loader = test_dataloader,\n",
    "                           loss_fn = loss_fn,\n",
    "                           accuracy_fn = accuracy_fn)\n",
    "model_0_result"
   ]
  },
  {
   "cell_type": "markdown",
   "id": "faccc1e0",
   "metadata": {},
   "source": [
    "## 5. Setup device agnostic code"
   ]
  },
  {
   "cell_type": "code",
   "execution_count": 31,
   "id": "6896ef46",
   "metadata": {},
   "outputs": [],
   "source": [
    "## device agnostic code\n",
    "device = 'cuda' if torch.cuda.is_available() else 'cpu'\n",
    "device"
   ]
  },
  {
   "cell_type": "markdown",
   "id": "0b2fd066",
   "metadata": {},
   "source": [
    "## 6. Build non-linear model"
   ]
  },
  {
   "cell_type": "markdown",
   "id": "a914eb73",
   "metadata": {},
   "source": [
    "### 6.1 Define model class"
   ]
  },
  {
   "cell_type": "code",
   "execution_count": 32,
   "id": "a49faa28",
   "metadata": {},
   "outputs": [],
   "source": [
    "class MNISTModelV1(nn.Module):\n",
    "    def __init__(self, input_shape: int,\n",
    "                        output_shape: int,\n",
    "                        hidden_units: int):\n",
    "        super().__init__()\n",
    "        self.stack_layer = nn.Sequential(\n",
    "            nn.Flatten(),\n",
    "            nn.Linear(in_features= input_shape,\n",
    "                     out_features = hidden_units),\n",
    "            nn.ReLU(),\n",
    "            nn.Linear(in_features = hidden_units,\n",
    "                     out_features = output_shape)\n",
    "            #nn.ReLU()\n",
    "        )\n",
    "        \n",
    "    def forward(self, x):\n",
    "        return self.stack_layer(x)\n",
    "\n"
   ]
  },
  {
   "cell_type": "code",
   "execution_count": 33,
   "id": "44829dc2",
   "metadata": {},
   "outputs": [],
   "source": [
    "INPUT_SHAPE = 28*28\n",
    "OUTPUT_SHAPE = len(class_names)\n",
    "HIDDEN_UNITS = 32\n",
    "BATCH_SIZE = 32\n",
    "torch.manual_seed(42)\n",
    "model_1 = MNISTModelV1(input_shape = INPUT_SHAPE,\n",
    "                      output_shape = OUTPUT_SHAPE,\n",
    "                        hidden_units = HIDDEN_UNITS).to(device)\n",
    "model_1"
   ]
  },
  {
   "cell_type": "markdown",
   "id": "f3fbfbfa",
   "metadata": {},
   "source": [
    "### 6.2 Define loss function, optimizer and metrics"
   ]
  },
  {
   "cell_type": "code",
   "execution_count": 34,
   "id": "0f5a2995",
   "metadata": {},
   "outputs": [],
   "source": [
    "##loss function\n",
    "loss_fn_1 = nn.CrossEntropyLoss()\n",
    "\n",
    "## optimizer\n",
    "optimizer_1 = torch.optim.SGD(params = model_1.parameters(),\n",
    "                             lr = 0.05)\n",
    "\n",
    "## accuracy_fn\n",
    "from torchmetrics import Accuracy\n",
    "accuracy_fn = Accuracy(task = 'multiclass', num_classes = OUTPUT_SHAPE).to(device)"
   ]
  },
  {
   "cell_type": "markdown",
   "id": "cdaeacc9",
   "metadata": {},
   "source": [
    "### 6.3 Create train and test loop"
   ]
  },
  {
   "cell_type": "code",
   "execution_count": 36,
   "id": "c6b7b6cb",
   "metadata": {},
   "outputs": [],
   "source": [
    "def train_model(model: torch.nn.Module,\n",
    "               data_loader: torch.utils.data.DataLoader,\n",
    "               loss_fn : torch.nn.Module,\n",
    "                optimizer: torch.optim,\n",
    "                accuracy_fn,\n",
    "               device: str = 'cpu'):\n",
    "    \"\"\"Return a dictionary containing the results of the model training on data_loader\"\"\"\n",
    "    #set the seed and starting time\n",
    "    torch.manual_seed(42)\n",
    "    ### TRAINING\n",
    "    train_loss, train_acc = 0, 0 \n",
    "    for batch, (data, label) in enumerate(data_loader):\n",
    "        data = data.to(device)\n",
    "        label = label.to(device)\n",
    "        model.train()\n",
    "        ## optimizer zero grad\n",
    "        optimizer.zero_grad()\n",
    "        ## forward pass\n",
    "        pred = model(data)\n",
    "        ## calculate loss\n",
    "        loss = loss_fn(pred, label)\n",
    "        train_loss += loss\n",
    "        train_acc+= accuracy_fn(pred, label)\n",
    "        ## loss backward\n",
    "        loss.backward()\n",
    "        ## optimizer step\n",
    "        optimizer.step()\n",
    "    train_loss /= len(data_loader)\n",
    "    train_acc /= len(data_loader)\n",
    "    return {\"model_name\": model.__class__.__name__ , #only work if model is create with a class\n",
    "       \"model_loss\": loss.item(),\n",
    "        \"model_acc\": train_acc.item(),\n",
    "       }"
   ]
  },
  {
   "cell_type": "code",
   "execution_count": 43,
   "id": "57e741c3",
   "metadata": {},
   "outputs": [],
   "source": [
    "## import tqdm for progress bar\n",
    "from tqdm.auto import tqdm \n",
    "def eval_model(model: torch.nn.Module,\n",
    "               data_loader: torch.utils.data.DataLoader,\n",
    "              loss_fn : torch.nn.Module,\n",
    "              accuracy_fn,\n",
    "            device: str = 'cpu',\n",
    "              ):\n",
    "    \"\"\"Return a dictionary containing the results of the model predicting on data_loader\"\"\"\n",
    "    loss, acc = 0, 0\n",
    "    model.eval()\n",
    "    with torch.inference_mode():\n",
    "        #Make prediction\n",
    "        for data, label in tqdm(data_loader):\n",
    "            data = data.to(device)\n",
    "            label = label.to(device)\n",
    "            # make prediciton        \n",
    "            y_pred = model(data)\n",
    "            #accumulate the loss and acc values per batch\n",
    "            loss += loss_fn(y_pred, label)\n",
    "            acc += accuracy_fn(y_pred, label)\n",
    "        #Scale the loss and acc to find the average loss and acc per batch\n",
    "        loss /= len(data_loader)\n",
    "        acc /= len(data_loader)\n",
    "    return {\"model_name\": model.__class__.__name__ , #only work if model is create with a class\n",
    "           \"model_loss\": loss.item(),\n",
    "            \"model_acc\": acc.item()\n",
    "           }"
   ]
  },
  {
   "cell_type": "code",
   "execution_count": 44,
   "id": "82c83a10",
   "metadata": {},
   "outputs": [
    {
     "ename": "NameError",
     "evalue": "name 'timer' is not defined",
     "output_type": "error",
     "traceback": [
      "\u001b[1;31m---------------------------------------------------------------------------\u001b[0m",
      "\u001b[1;31mNameError\u001b[0m                                 Traceback (most recent call last)",
      "Cell \u001b[1;32mIn[44], line 3\u001b[0m\n\u001b[0;32m      1\u001b[0m epochs \u001b[38;5;241m=\u001b[39m \u001b[38;5;241m4\u001b[39m\n\u001b[0;32m      2\u001b[0m \u001b[38;5;66;03m#set the seed and starting time\u001b[39;00m\n\u001b[1;32m----> 3\u001b[0m start_train_gpu \u001b[38;5;241m=\u001b[39m \u001b[43mtimer\u001b[49m()\n\u001b[0;32m      4\u001b[0m torch\u001b[38;5;241m.\u001b[39mmanual_seed(\u001b[38;5;241m42\u001b[39m)\n\u001b[0;32m      5\u001b[0m \u001b[38;5;28;01mfor\u001b[39;00m epoch \u001b[38;5;129;01min\u001b[39;00m tqdm(\u001b[38;5;28mrange\u001b[39m(epochs)):\n",
      "\u001b[1;31mNameError\u001b[0m: name 'timer' is not defined"
     ]
    }
   ],
   "source": [
    "epochs = 4\n",
    "#set the seed and starting time\n",
    "start_train_gpu = timer()\n",
    "torch.manual_seed(42)\n",
    "for epoch in tqdm(range(epochs)):\n",
    "    print(f\"Epoch: {epoch}\")\n",
    "    ### TRAINING\n",
    "    model_1_train_result = train_model(model_1,\n",
    "                                      train_dataloader,\n",
    "                                      loss_fn_1,\n",
    "                                      optimizer_1,\n",
    "                                       accuracy_fn,\n",
    "                                      device)  \n",
    "    ###TESTING\n",
    "    model_1_test_result = eval_model(model_1,\n",
    "                                    test_dataloader,\n",
    "                                    loss_fn_1,\n",
    "                                    accuracy_fn,\n",
    "                                    device)\n",
    "    #print what happen\n",
    "    print(f\"\\nTrain loss: {model_1_train_result['model_loss']:.3f} | Train Accuracy: {model_1_train_result['model_acc']:.3f} | Test_loss {model_1_test_result['model_loss']:.3f} | Test Accuracy: {model_1_test_result['model_acc']:.2f}\")\n",
    "    end_train_gpu = timer()\n",
    "    print_train_time(start =train_time_start_on_cpu,\n",
    "                  end = train_time_end_on_cpu,\n",
    "                  device = str(next(model_0.parameters()).device))"
   ]
  },
  {
   "cell_type": "markdown",
   "id": "980f0898",
   "metadata": {},
   "source": [
    "> **Note**: Sometime, depending on your data/hardware you might find that your model train faster on CPU than GPU\n",
    "> Why is this ?\n",
    "> 1. It could be that the overhead for copy data /model to and from the GPU outweight the compute benefits offered by the  GPU.\n",
    "> 2. The hardware you're using has a better CPU in terms compute capability than the CPU."
   ]
  },
  {
   "cell_type": "markdown",
   "id": "cd222c21",
   "metadata": {},
   "source": [
    "## 7. Model 2:Building a Convolutional Neural Network (CNN)\n",
    "CNN's are also know as ConvNets\n",
    "\n",
    "CNN's are known for their capabilities to find patterns in visual data."
   ]
  },
  {
   "cell_type": "code",
   "execution_count": 17,
   "id": "c27d781e",
   "metadata": {},
   "outputs": [
    {
     "data": {
      "text/plain": [
       "'cuda'"
      ]
     },
     "execution_count": 17,
     "metadata": {},
     "output_type": "execute_result"
    }
   ],
   "source": [
    "device = 'cuda' if torch.cuda.is_available() else 'cpu'\n",
    "device"
   ]
  },
  {
   "cell_type": "code",
   "execution_count": 18,
   "id": "37c8a3fd",
   "metadata": {},
   "outputs": [],
   "source": [
    "class MNISTModelV2(nn.Module):\n",
    "    \"\"\"Create anh CNNs replicate the TinyVGG architecture\"\"\"\n",
    "    def __init__(self, input_shape: int, output_shape: int, hidden_units: int):\n",
    "        super().__init__()\n",
    "        self.conv_block_1 = nn.Sequential(\n",
    "            nn.Conv2d(in_channels = input_shape,\n",
    "                    out_channels = hidden_units,\n",
    "                    kernel_size = 3,\n",
    "                    stride = 1,\n",
    "                    padding = 1),\n",
    "            nn.ReLU(),\n",
    "            \n",
    "            nn.Conv2d(in_channels = hidden_units,\n",
    "                     out_channels = hidden_units,\n",
    "                     kernel_size = 3,\n",
    "                     stride =1,\n",
    "                     padding = 1),\n",
    "            nn.ReLU(),\n",
    "            nn.MaxPool2d(kernel_size = 2)\n",
    "        )\n",
    "        self.conv_block_2 = nn.Sequential(\n",
    "            nn.Conv2d(in_channels = hidden_units,\n",
    "                     out_channels = hidden_units,\n",
    "                     kernel_size =3,\n",
    "                     stride =1,\n",
    "                     padding =1),\n",
    "            nn.ReLU(),\n",
    "            nn.MaxPool2d(kernel_size = 2),\n",
    "            \n",
    "#             nn.Conv2d(in_channels = hidden_units,\n",
    "#                       out_channels = hidden_units,\n",
    "#                       kernel_size = 3,\n",
    "#                       stride =1,\n",
    "#                       padding = 1),\n",
    "#             nn.ReLU(),\n",
    "#             nn.MaxPool2d(kernel_size =2)\n",
    "        )\n",
    "        self.classiffier = nn.Sequential(\n",
    "            nn.Flatten(),\n",
    "            nn.Linear(in_features = hidden_units*7*7,\n",
    "                     out_features = output_shape)\n",
    "        )\n",
    "        \n",
    "    def forward(self,x):\n",
    "        x = self.conv_block_1(x)\n",
    "        #print(f\"Output shape of conv_block_1: {x.shape}\")\n",
    "        x = self.conv_block_2(x)\n",
    "        #print(f\"Output shape of conv_block_2: {x.shape}\")\n",
    "        x = self.classiffier(x)\n",
    "        #print(f\"Output shape of classiffier: {x.shape}\")\n",
    "        return x\n",
    "        "
   ]
  },
  {
   "cell_type": "code",
   "execution_count": 19,
   "id": "6f49614c",
   "metadata": {},
   "outputs": [
    {
     "data": {
      "text/plain": [
       "MNISTModelV2(\n",
       "  (conv_block_1): Sequential(\n",
       "    (0): Conv2d(1, 10, kernel_size=(3, 3), stride=(1, 1), padding=(1, 1))\n",
       "    (1): ReLU()\n",
       "    (2): Conv2d(10, 10, kernel_size=(3, 3), stride=(1, 1), padding=(1, 1))\n",
       "    (3): ReLU()\n",
       "    (4): MaxPool2d(kernel_size=2, stride=2, padding=0, dilation=1, ceil_mode=False)\n",
       "  )\n",
       "  (conv_block_2): Sequential(\n",
       "    (0): Conv2d(10, 10, kernel_size=(3, 3), stride=(1, 1), padding=(1, 1))\n",
       "    (1): ReLU()\n",
       "    (2): MaxPool2d(kernel_size=2, stride=2, padding=0, dilation=1, ceil_mode=False)\n",
       "  )\n",
       "  (classiffier): Sequential(\n",
       "    (0): Flatten(start_dim=1, end_dim=-1)\n",
       "    (1): Linear(in_features=490, out_features=10, bias=True)\n",
       "  )\n",
       ")"
      ]
     },
     "execution_count": 19,
     "metadata": {},
     "output_type": "execute_result"
    }
   ],
   "source": [
    "torch.manual_seed(42)\n",
    "model_2 = MNISTModelV2(input_shape =1, #number of image's color channel\n",
    "                      output_shape = len(class_names), #number of classes for classiffication\n",
    "                      hidden_units = 10).to(device)\n",
    "model_2"
   ]
  },
  {
   "cell_type": "code",
   "execution_count": 20,
   "id": "f9699751",
   "metadata": {},
   "outputs": [
    {
     "name": "stdout",
     "output_type": "stream",
     "text": [
      "torch.Size([1, 28, 28])\n"
     ]
    }
   ],
   "source": [
    "#passing one image to model\n",
    "dummy_image = torch.rand(size = (1,28,28)).to(device)\n",
    "print(dummy_image.shape)\n",
    "output_model = model_2(dummy_image.unsqueeze(dim = 0))"
   ]
  },
  {
   "cell_type": "code",
   "execution_count": 21,
   "id": "ba416055",
   "metadata": {},
   "outputs": [
    {
     "data": {
      "text/plain": [
       "torch.Size([1, 10])"
      ]
     },
     "execution_count": 21,
     "metadata": {},
     "output_type": "execute_result"
    }
   ],
   "source": [
    "output_model.shape"
   ]
  },
  {
   "cell_type": "markdown",
   "id": "56bc51a0",
   "metadata": {},
   "source": [
    "### 7.1 Stepping through `nn.Conv2d()` "
   ]
  },
  {
   "cell_type": "code",
   "execution_count": 22,
   "id": "7ea94b94",
   "metadata": {},
   "outputs": [
    {
     "name": "stdout",
     "output_type": "stream",
     "text": [
      "Image batch shape: torch.Size([32, 3, 64, 64])\n",
      "Single image shape: torch.Size([3, 64, 64])\n",
      "Test image:\n",
      " tensor([[[ 1.9269,  1.4873,  0.9007,  ...,  1.8446, -1.1845,  1.3835],\n",
      "         [ 1.4451,  0.8564,  2.2181,  ...,  0.3399,  0.7200,  0.4114],\n",
      "         [ 1.9312,  1.0119, -1.4364,  ..., -0.5558,  0.7043,  0.7099],\n",
      "         ...,\n",
      "         [-0.5610, -0.4830,  0.4770,  ..., -0.2713, -0.9537, -0.6737],\n",
      "         [ 0.3076, -0.1277,  0.0366,  ..., -2.0060,  0.2824, -0.8111],\n",
      "         [-1.5486,  0.0485, -0.7712,  ..., -0.1403,  0.9416, -0.0118]],\n",
      "\n",
      "        [[-0.5197,  1.8524,  1.8365,  ...,  0.8935, -1.5114, -0.8515],\n",
      "         [ 2.0818,  1.0677, -1.4277,  ...,  1.6612, -2.6223, -0.4319],\n",
      "         [-0.1010, -0.4388, -1.9775,  ...,  0.2106,  0.2536, -0.7318],\n",
      "         ...,\n",
      "         [ 0.2779,  0.7342, -0.3736,  ..., -0.4601,  0.1815,  0.1850],\n",
      "         [ 0.7205, -0.2833,  0.0937,  ..., -0.1002, -2.3609,  2.2465],\n",
      "         [-1.3242, -0.1973,  0.2920,  ...,  0.5409,  0.6940,  1.8563]],\n",
      "\n",
      "        [[-0.7978,  1.0261,  1.1465,  ...,  1.2134,  0.9354, -0.0780],\n",
      "         [-1.4647, -1.9571,  0.1017,  ..., -1.9986, -0.7409,  0.7011],\n",
      "         [-1.3938,  0.8466, -1.7191,  ..., -1.1867,  0.1320,  0.3407],\n",
      "         ...,\n",
      "         [ 0.8206, -0.3745,  1.2499,  ..., -0.0676,  0.0385,  0.6335],\n",
      "         [-0.5589, -0.3393,  0.2347,  ...,  2.1181,  2.4569,  1.3083],\n",
      "         [-0.4092,  1.5199,  0.2401,  ..., -0.2558,  0.7870,  0.9924]]])\n"
     ]
    }
   ],
   "source": [
    "torch.manual_seed(42)\n",
    "\n",
    "#create a batch of images\n",
    "images = torch.randn(size=(32,3,64,64))\n",
    "test_image = images[0]\n",
    "print(f\"Image batch shape: {images.shape}\")\n",
    "print(f\"Single image shape: {test_image.shape}\")\n",
    "print(f\"Test image:\\n {test_image}\")"
   ]
  },
  {
   "cell_type": "code",
   "execution_count": 23,
   "id": "edbf7fdd",
   "metadata": {},
   "outputs": [
    {
     "name": "stdout",
     "output_type": "stream",
     "text": [
      "torch.Size([1, 10, 62, 62])\n"
     ]
    }
   ],
   "source": [
    "torch.manual_seed(42)\n",
    "conv_layer = nn.Conv2d(in_channels = 3,\n",
    "                      out_channels = 10,\n",
    "                       kernel_size = 3,\n",
    "                      stride =1,\n",
    "                      padding =0)\n",
    "##Pass the data to the conv layer\n",
    "conv_output = conv_layer(test_image.unsqueeze(dim=0))\n",
    "print(conv_output.shape)"
   ]
  },
  {
   "cell_type": "markdown",
   "id": "6a8fa961",
   "metadata": {},
   "source": [
    "### 7.2 Stepping through `nn.MaxPool2d()`"
   ]
  },
  {
   "cell_type": "code",
   "execution_count": 24,
   "id": "e753c2da",
   "metadata": {},
   "outputs": [
    {
     "name": "stdout",
     "output_type": "stream",
     "text": [
      "torch.Size([3, 64, 64])\n",
      "torch.Size([1, 3, 64, 64])\n"
     ]
    }
   ],
   "source": [
    "#print the orginial shape of image\n",
    "print(test_image.shape)\n",
    "\n",
    "#print the shape of image after unsqueeze 0 dimension\n",
    "print(test_image.unsqueeze(dim = 0).shape)"
   ]
  },
  {
   "cell_type": "code",
   "execution_count": 25,
   "id": "1954fe72",
   "metadata": {},
   "outputs": [
    {
     "name": "stdout",
     "output_type": "stream",
     "text": [
      "Shape of the output of conv layer: torch.Size([1, 10, 62, 62])\n",
      "Shape of the output of max pool layer and maxpool layer: torch.Size([1, 10, 31, 31])\n"
     ]
    }
   ],
   "source": [
    "### create a single Maxpool2d layer\n",
    "max_pool_layer = nn.MaxPool2d(kernel_size = 2)\n",
    "\n",
    "## pass data through just the conv layer\n",
    "test_image_through_conv = conv_layer(test_image.unsqueeze(dim=0))\n",
    "print(f\"Shape of the output of conv layer: {test_image_through_conv.shape}\")\n",
    "\n",
    "## pass output of conv layer to the maxpool layer\n",
    "test_image_through_conv_maxpopl = max_pool_layer(test_image_through_conv)\n",
    "print(f\"Shape of the output of max pool layer and maxpool layer: {test_image_through_conv_maxpopl.shape}\")"
   ]
  },
  {
   "cell_type": "markdown",
   "id": "713724b6",
   "metadata": {},
   "source": [
    "### 7.3 Setup loss function, optimizer and metrics for `model_2`"
   ]
  },
  {
   "cell_type": "code",
   "execution_count": 26,
   "id": "a283a754",
   "metadata": {},
   "outputs": [],
   "source": [
    "from torchmetrics import Accuracy\n",
    "\n",
    "##setup loss function\n",
    "loss_fn_2 = nn.CrossEntropyLoss()\n",
    "## setup optimizer\n",
    "optimizer_2 = torch.optim.SGD(params = model_2.parameters(),\n",
    "                             lr = 0.05)\n",
    "## setup accuracy\n",
    "accuracy_fn_2 = Accuracy(task = \"multiclass\", num_classes = len(class_names)).to(device)"
   ]
  },
  {
   "cell_type": "code",
   "execution_count": 27,
   "id": "70485ea7",
   "metadata": {},
   "outputs": [
    {
     "name": "stdout",
     "output_type": "stream",
     "text": [
      "torch.Size([32, 1, 28, 28])\n",
      "tensor(0.0938, device='cuda:0')\n"
     ]
    }
   ],
   "source": [
    "model_2.train()\n",
    "for tmp_data, tmp_label in test_dataloader:\n",
    "    print(tmp_data.shape )\n",
    "    tmp_pred = model_2(tmp_data.to(device))\n",
    "    tmp_loss = loss_fn_2(tmp_pred, tmp_label.to(device))\n",
    "    tmp_acc = accuracy_fn_2(tmp_pred, tmp_label.to(device))\n",
    "    print(tmp_acc)\n",
    "    break"
   ]
  },
  {
   "cell_type": "markdown",
   "id": "a91a02fc",
   "metadata": {},
   "source": [
    "### 7.4 Train and evaluate model"
   ]
  },
  {
   "cell_type": "code",
   "execution_count": 28,
   "id": "f72ea924",
   "metadata": {},
   "outputs": [],
   "source": [
    "## import tqdm for progress bar\n",
    "from tqdm.auto import tqdm \n",
    "def train_model(model: torch.nn.Module,\n",
    "               data_loader: torch.utils.data.DataLoader,\n",
    "               loss_fn : torch.nn.Module,\n",
    "                optimizer: torch.optim,\n",
    "                accuracy_fn,\n",
    "               device: str = 'cpu'):\n",
    "    \"\"\"Return a dictionary containing the results of the model training on data_loader\"\"\"\n",
    "    #set the seed and starting time\n",
    "    torch.manual_seed(42)\n",
    "    ### TRAINING\n",
    "    train_loss, train_acc = 0, 0 \n",
    "    for batch, (data, label) in tqdm(enumerate(data_loader)):\n",
    "        data = data.to(device)\n",
    "        label = label.to(device)\n",
    "        model.train()\n",
    "        ## optimizer zero grad\n",
    "        optimizer.zero_grad()\n",
    "        ## forward pass\n",
    "        pred = model(data)\n",
    "        ## calculate loss\n",
    "        loss = loss_fn(pred, label)\n",
    "        train_loss += loss\n",
    "        train_acc+= accuracy_fn(pred, label)\n",
    "        ## loss backward\n",
    "        loss.backward()\n",
    "        ## optimizer step\n",
    "        optimizer.step()\n",
    "    train_loss /= len(data_loader)\n",
    "    train_acc /= len(data_loader)\n",
    "    return {\"model_name\": model.__class__.__name__ , #only work if model is create with a class\n",
    "       \"model_loss\": loss.item(),\n",
    "        \"model_acc\": train_acc.item(),\n",
    "       }\n",
    "\n",
    "def eval_model(model: torch.nn.Module,\n",
    "               data_loader: torch.utils.data.DataLoader,\n",
    "              loss_fn : torch.nn.Module,\n",
    "              accuracy_fn,\n",
    "            device: str = 'cpu',\n",
    "              ):\n",
    "    \"\"\"Return a dictionary containing the results of the model predicting on data_loader\"\"\"\n",
    "    loss, acc = 0, 0\n",
    "    model.eval()\n",
    "    with torch.inference_mode():\n",
    "        #Make prediction\n",
    "        for data, label in tqdm(data_loader):\n",
    "            data = data.to(device)\n",
    "            label = label.to(device)\n",
    "            # make prediciton        \n",
    "            y_pred = model(data)\n",
    "            #accumulate the loss and acc values per batch\n",
    "            loss += loss_fn(y_pred, label)\n",
    "            acc += accuracy_fn(y_pred, label)\n",
    "        #Scale the loss and acc to find the average loss and acc per batch\n",
    "        loss /= len(data_loader)\n",
    "        acc /= len(data_loader)\n",
    "    return {\"model_name\": model.__class__.__name__ , #only work if model is create with a class\n",
    "           \"model_loss\": loss.item(),\n",
    "            \"model_acc\": acc.item()\n",
    "           }"
   ]
  },
  {
   "cell_type": "code",
   "execution_count": 29,
   "id": "90b98066",
   "metadata": {
    "scrolled": true
   },
   "outputs": [
    {
     "name": "stderr",
     "output_type": "stream",
     "text": [
      "1875it [00:14, 130.46it/s]\n",
      "100%|████████████████████████████████████████| 313/313 [00:01<00:00, 182.01it/s]\n"
     ]
    },
    {
     "name": "stdout",
     "output_type": "stream",
     "text": [
      "\n",
      "Train loss: 0.378 | Train Accuracy: 0.779 | Test_loss 0.418 | Test Accuracy: 0.85\n"
     ]
    },
    {
     "name": "stderr",
     "output_type": "stream",
     "text": [
      "1875it [00:14, 132.10it/s]\n",
      "100%|████████████████████████████████████████| 313/313 [00:01<00:00, 176.55it/s]\n"
     ]
    },
    {
     "name": "stdout",
     "output_type": "stream",
     "text": [
      "\n",
      "Train loss: 0.286 | Train Accuracy: 0.861 | Test_loss 0.362 | Test Accuracy: 0.87\n"
     ]
    },
    {
     "name": "stderr",
     "output_type": "stream",
     "text": [
      "1875it [00:14, 125.61it/s]\n",
      "100%|████████████████████████████████████████| 313/313 [00:01<00:00, 179.95it/s]"
     ]
    },
    {
     "name": "stdout",
     "output_type": "stream",
     "text": [
      "\n",
      "Train loss: 0.256 | Train Accuracy: 0.877 | Test_loss 0.339 | Test Accuracy: 0.88\n"
     ]
    },
    {
     "name": "stderr",
     "output_type": "stream",
     "text": [
      "\n"
     ]
    }
   ],
   "source": [
    "torch.manual_seed(42)\n",
    "epochs = 3\n",
    "for epoch in range(epochs):\n",
    "    model_2_train_result = train_model(model = model_2,\n",
    "                                       data_loader = train_dataloader,\n",
    "                                      loss_fn = loss_fn_2,\n",
    "                                      optimizer = optimizer_2,\n",
    "                                      accuracy_fn = accuracy_fn_2,\n",
    "                                      device = device)\n",
    "    \n",
    "    model_2_test_result = eval_model(model = model_2,\n",
    "                                    data_loader = test_dataloader,\n",
    "                                    loss_fn = loss_fn_2,\n",
    "                                    accuracy_fn = accuracy_fn_2,\n",
    "                                    device = device)\n",
    "    print(f\"\\nTrain loss: {model_2_train_result['model_loss']:.3f} | Train Accuracy: {model_2_train_result['model_acc']:.3f} | Test_loss {model_2_test_result['model_loss']:.3f} | Test Accuracy: {model_2_test_result['model_acc']:.2f}\")\n",
    " "
   ]
  },
  {
   "cell_type": "markdown",
   "id": "ae4f680d",
   "metadata": {},
   "source": [
    "### 7.5 Make prediction"
   ]
  },
  {
   "cell_type": "code",
   "execution_count": 30,
   "id": "7cffb48c",
   "metadata": {},
   "outputs": [],
   "source": [
    "def Make_prediction(model: nn.Module,\n",
    "                   data,\n",
    "                   device = 'cpu'):\n",
    "    pred_probs = []\n",
    "    model.eval()\n",
    "    with torch.inference_mode():\n",
    "        for sample in data:\n",
    "            #add batch dimension to the image\n",
    "            sample = torch.unsqueeze(sample, dim =0).to(device)\n",
    "            #forward pass, predict the raw logit\n",
    "            preds_logit = model(sample)\n",
    "            #get predtion probability (logit -> prediction probability)\n",
    "            pred_prob = torch.softmax(preds_logit.squeeze(), dim = 0)\n",
    "            #get pred_prob off the GPU for furter calculation\n",
    "            pred_probs.append(pred_prob.cpu())\n",
    "    #stack pred_probs to become a tensor\n",
    "    return torch.stack(pred_probs)"
   ]
  },
  {
   "cell_type": "code",
   "execution_count": 31,
   "id": "cb6861c8",
   "metadata": {},
   "outputs": [],
   "source": [
    "import random\n",
    "#random.seed(42)\n",
    "test_data_samples = []\n",
    "test_label_samples = []\n",
    "for raw_test_image, raw_test_label in random.sample(list(test_data), k=9):\n",
    "    test_data_samples.append(raw_test_image)\n",
    "    test_label_samples.append(raw_test_label)"
   ]
  },
  {
   "cell_type": "code",
   "execution_count": 32,
   "id": "8c944ef6",
   "metadata": {},
   "outputs": [
    {
     "name": "stdout",
     "output_type": "stream",
     "text": [
      "torch.Size([1, 28, 28]) 0\n"
     ]
    },
    {
     "data": {
      "text/plain": [
       "Text(0.5, 1.0, 'T-shirt/top')"
      ]
     },
     "execution_count": 32,
     "metadata": {},
     "output_type": "execute_result"
    },
    {
     "data": {
      "image/png": "[encoded data removed]",
      "text/plain": [
       "<Figure size 640x480 with 1 Axes>"
      ]
     },
     "metadata": {},
     "output_type": "display_data"
    }
   ],
   "source": [
    "i = 2\n",
    "print(test_data_samples[i].shape, test_label_samples[i])\n",
    "plt.imshow(test_data_samples[i].squeeze(), cmap = 'gray')\n",
    "plt.title(class_names[test_label_samples[i]])"
   ]
  },
  {
   "cell_type": "code",
   "execution_count": 33,
   "id": "4fe68f0a",
   "metadata": {},
   "outputs": [
    {
     "name": "stdout",
     "output_type": "stream",
     "text": [
      "tensor([6.2909e-02, 5.1304e-03, 8.8496e-01, 1.1411e-03, 8.6867e-04, 5.3644e-05,\n",
      "        7.2422e-03, 6.2332e-06, 3.7338e-02, 3.5029e-04])\n"
     ]
    }
   ],
   "source": [
    "pred_outputs = Make_prediction(model = model_2, data = test_data_samples, device = device)\n",
    "print(pred_outputs[0])"
   ]
  },
  {
   "cell_type": "code",
   "execution_count": 34,
   "id": "4711e56f",
   "metadata": {},
   "outputs": [
    {
     "name": "stdout",
     "output_type": "stream",
     "text": [
      "tensor([2, 1, 0, 9, 2, 3, 9, 1, 8])\n"
     ]
    }
   ],
   "source": [
    "#convert to the right format to compare with the label\n",
    "pred_labels = pred_outputs.argmax(dim = 1)\n",
    "print(pred_labels[:10])"
   ]
  },
  {
   "cell_type": "code",
   "execution_count": 35,
   "id": "0bcdb6e4",
   "metadata": {},
   "outputs": [
    {
     "name": "stdout",
     "output_type": "stream",
     "text": [
      "[2, 1, 0, 9, 6, 3, 9, 1, 8]\n"
     ]
    }
   ],
   "source": [
    "#print the first 10 label\n",
    "print(test_label_samples[:10])"
   ]
  },
  {
   "cell_type": "markdown",
   "id": "63036849",
   "metadata": {},
   "source": [
    "### 7.6 Plot the prediction"
   ]
  },
  {
   "cell_type": "code",
   "execution_count": 36,
   "id": "d18254eb",
   "metadata": {},
   "outputs": [],
   "source": [
    "def Plot_prediction(test_data_samples, test_label_samples, pred_labels):\n",
    "    plt.figure(figsize = (9,9))\n",
    "    nrows, ncols = 3,3\n",
    "    for i, sample in enumerate(test_data_samples):\n",
    "        # create subplot\n",
    "        plt.subplot(nrows, ncols, i+1)\n",
    "        plt.imshow(sample.squeeze(), cmap ='gray')\n",
    "\n",
    "        #show predcit and label in readable format\n",
    "        predict_label = class_names[pred_labels[i]]\n",
    "        truth_label = class_names[test_label_samples[i]]\n",
    "\n",
    "        #change title color depend on the predict result\n",
    "        if truth_label == predict_label:\n",
    "            plt.title(f\"Truth: {truth_label} | Predict: {predict_label}\", fontsize =10, c= \"g\")\n",
    "        else:\n",
    "            plt.title(f\"Truth: {truth_label} | Predict: {predict_label}\", fontsize=10, c=\"r\")\n",
    "        plt.axis(False)"
   ]
  },
  {
   "cell_type": "code",
   "execution_count": 37,
   "id": "76a84c0f",
   "metadata": {},
   "outputs": [
    {
     "data": {
      "image/png": "[encoded data removed]",
      "text/plain": [
       "<Figure size 900x900 with 9 Axes>"
      ]
     },
     "metadata": {},
     "output_type": "display_data"
    }
   ],
   "source": [
    "#random.seed(42)\n",
    "test_data_samples = []\n",
    "test_label_samples = []\n",
    "for raw_test_image, raw_test_label in random.sample(list(test_data), k=9):\n",
    "    test_data_samples.append(raw_test_image)\n",
    "    test_label_samples.append(raw_test_label)\n",
    "pred_labels = Make_prediction(model = model_2, data = test_data_samples, device = device).argmax(dim = 1)\n",
    "Plot_prediction(test_data_samples, test_label_samples, pred_labels)"
   ]
  },
  {
   "cell_type": "markdown",
   "id": "a086745b",
   "metadata": {},
   "source": [
    "## 8.Making a confusion matrix for further prediction evaluation\n",
    "A confusion matrix is a fanstactic way of evaluating your classification model visually\n",
    "\n",
    "1. Make prediction of the model in the test dataset\n",
    "2. Make confusion matrix by using `torchmertris.ConfusionMatrix()`\n",
    "3. Plot the confusion matrix using `mlxtend.plot_confusion_matrix()`"
   ]
  },
  {
   "cell_type": "code",
   "execution_count": 38,
   "id": "793406ba",
   "metadata": {},
   "outputs": [
    {
     "data": {
      "text/plain": [
       "'0.21.0'"
      ]
     },
     "execution_count": 38,
     "metadata": {},
     "output_type": "execute_result"
    }
   ],
   "source": [
    "import mlxtend\n",
    "mlxtend.__version__"
   ]
  },
  {
   "cell_type": "markdown",
   "id": "26d1212c",
   "metadata": {},
   "source": [
    "### 8.1 Make prediciton with model_2"
   ]
  },
  {
   "cell_type": "code",
   "execution_count": 39,
   "id": "e36df8e0",
   "metadata": {},
   "outputs": [
    {
     "name": "stderr",
     "output_type": "stream",
     "text": [
      "Making decision...: 100%|███████████████| 10000/10000 [00:09<00:00, 1098.08it/s]\n"
     ]
    }
   ],
   "source": [
    "#import libraries\n",
    "from tqdm.auto import tqdm\n",
    "\n",
    "#Make prediction on test data\n",
    "model_2.eval()\n",
    "y_preds = []\n",
    "labels = []\n",
    "with torch.inference_mode():\n",
    "    for test_image, test_label in tqdm(test_data, desc = \"Making decision...\"):\n",
    "        test_image = test_image.to(device)\n",
    "        test_label = test_label\n",
    "        #print(test_image.shape, test_label)\n",
    "        pred_logit = model_2(test_image.unsqueeze(dim =0))\n",
    "        pred_label = torch.softmax(pred_logit, dim =1 ).argmax(dim = 1)\n",
    "        y_preds.append(pred_label.cpu())\n",
    "        labels.append(test_label)"
   ]
  },
  {
   "cell_type": "code",
   "execution_count": 40,
   "id": "87d35ad2",
   "metadata": {},
   "outputs": [
    {
     "data": {
      "text/plain": [
       "tensor([9, 2, 1,  ..., 8, 1, 5])"
      ]
     },
     "execution_count": 40,
     "metadata": {},
     "output_type": "execute_result"
    }
   ],
   "source": [
    "y_preds = torch.stack(y_preds)\n",
    "y_preds = y_preds.squeeze(dim = 1)\n",
    "y_preds.to('cpu')\n"
   ]
  },
  {
   "cell_type": "code",
   "execution_count": 41,
   "id": "5a7c3285",
   "metadata": {},
   "outputs": [
    {
     "data": {
      "text/plain": [
       "tensor([9, 2, 1, 1, 6, 1, 4, 6, 5, 7])"
      ]
     },
     "execution_count": 41,
     "metadata": {},
     "output_type": "execute_result"
    }
   ],
   "source": [
    "y_preds[:10]"
   ]
  },
  {
   "cell_type": "code",
   "execution_count": 42,
   "id": "4c7d0426",
   "metadata": {},
   "outputs": [],
   "source": [
    "import numpy as np\n",
    "labels = torch.from_numpy(np.array(labels))\n"
   ]
  },
  {
   "cell_type": "code",
   "execution_count": 43,
   "id": "e76c90c2",
   "metadata": {},
   "outputs": [
    {
     "data": {
      "text/plain": [
       "tensor([9, 2, 1, 1, 6, 1, 4, 6, 5, 7], dtype=torch.int32)"
      ]
     },
     "execution_count": 43,
     "metadata": {},
     "output_type": "execute_result"
    }
   ],
   "source": [
    "labels[:10]"
   ]
  },
  {
   "cell_type": "markdown",
   "id": "ec52af78",
   "metadata": {},
   "source": [
    "### 8.2 Make confusion matrix"
   ]
  },
  {
   "cell_type": "code",
   "execution_count": 44,
   "id": "46c94355",
   "metadata": {},
   "outputs": [],
   "source": [
    "from mlxtend.plotting import plot_confusion_matrix\n",
    "from torchmetrics import ConfusionMatrix\n",
    "\n",
    "confusion_matrix_fn = ConfusionMatrix(task = 'multiclass', num_classes= len(class_names))\n",
    "confusion_mtrx_model_2 = confusion_matrix_fn(y_preds, labels)"
   ]
  },
  {
   "cell_type": "markdown",
   "id": "d37d6252",
   "metadata": {},
   "source": [
    "### 8.3 Plot the confusion matrix"
   ]
  },
  {
   "cell_type": "code",
   "execution_count": 47,
   "id": "22b775ba",
   "metadata": {},
   "outputs": [
    {
     "data": {
      "image/png": "[encoded data removed]",
      "text/plain": [
       "<Figure size 640x480 with 2 Axes>"
      ]
     },
     "metadata": {},
     "output_type": "display_data"
    }
   ],
   "source": [
    "fig, ax = plot_confusion_matrix(conf_mat=confusion_mtrx_model_2.cpu().numpy(), #convert to numpy b/c matplot working with numpy\n",
    "                                colorbar=True,\n",
    "                                show_absolute=True,\n",
    "                                show_normed=False,\n",
    "                               class_names = class_names)\n",
    "plt.show()"
   ]
  },
  {
   "cell_type": "markdown",
   "id": "fb774012",
   "metadata": {},
   "source": [
    "## 9.Save and Load model_2()"
   ]
  },
  {
   "cell_type": "code",
   "execution_count": 53,
   "id": "d82e43e7",
   "metadata": {},
   "outputs": [
    {
     "data": {
      "text/plain": [
       "WindowsPath('models/MNISTFashion_model_2.pth')"
      ]
     },
     "execution_count": 53,
     "metadata": {},
     "output_type": "execute_result"
    }
   ],
   "source": [
    "from pathlib import Path\n",
    "\n",
    "#create model directory path\n",
    "MODEL_PATH = Path(\"models\")\n",
    "MODEL_PATH.mkdir(parents = True, \n",
    "                exist_ok =True)\n",
    "\n",
    "#create model save\n",
    "MODEL_NAME = 'MNISTFashion_model_2.pth'\n",
    "MODEL_SAVE_PATH = MODEL_PATH/MODEL_NAME\n",
    "MODEL_SAVE_PATH"
   ]
  },
  {
   "cell_type": "code",
   "execution_count": 56,
   "id": "2eeaef48",
   "metadata": {},
   "outputs": [
    {
     "name": "stdout",
     "output_type": "stream",
     "text": [
      "Saving model state dict to models\\MNISTFashion_model_2.pth\n"
     ]
    }
   ],
   "source": [
    "#save the model state dict\n",
    "print(f\"Saving model state dict to {MODEL_SAVE_PATH}\")\n",
    "torch.save(obj = model_2.state_dict(), f= MODEL_SAVE_PATH)"
   ]
  },
  {
   "cell_type": "code",
   "execution_count": 59,
   "id": "e3d8ad36",
   "metadata": {},
   "outputs": [],
   "source": [
    "# load model state dict and make predict\n",
    "torch.manual_seed(111)\n",
    "INPUT_SHAPE = 1\n",
    "OUTPUT_SHAPE = 10\n",
    "HIDDEN_UNITS = 10\n",
    "\n",
    "device = 'cuda' if torch.cuda.is_available() else 'cpu'\n",
    "peinr(device)\n",
    "\n",
    "#create new model instance\n",
    "new_model = MNISTModelV2(input_shape =INPUT_SHAPE,\n",
    "                        output_shape = OUTPUT_SHAPE,\n",
    "                        hidden_units = HIDDEN_UNITS).to(device)"
   ]
  },
  {
   "cell_type": "code",
   "execution_count": 72,
   "id": "fdc3fdab",
   "metadata": {},
   "outputs": [
    {
     "name": "stderr",
     "output_type": "stream",
     "text": [
      "Making decision...: 100%|████████████████████| 313/313 [00:01<00:00, 225.14it/s]\n"
     ]
    }
   ],
   "source": [
    "#load state dict\n",
    "new_model.load_state_dict(torch.load(f= MODEL_SAVE_PATH))\n",
    "#make prediction\n",
    "new_model.eval()\n",
    "y_preds = []\n",
    "labels = []\n",
    "with torch.inference_mode():\n",
    "    for test_image, test_label in tqdm(test_dataloader, desc = \"Making decision...\"):\n",
    "        test_image = test_image.to(device)\n",
    "        test_label = test_label.to(device)\n",
    "        #print(test_image.shape, test_label)\n",
    "        pred_logit = model_2(test_image)\n",
    "        pred_label = torch.softmax(pred_logit, dim =1 ).argmax(dim = 1)\n",
    "        y_preds.append(pred_label.cpu())\n",
    "        labels.append(test_label)\n"
   ]
  },
  {
   "cell_type": "code",
   "execution_count": 73,
   "id": "ad7fe3bc",
   "metadata": {},
   "outputs": [
    {
     "data": {
      "text/plain": [
       "tensor([9, 2, 1,  ..., 8, 1, 5])"
      ]
     },
     "execution_count": 73,
     "metadata": {},
     "output_type": "execute_result"
    }
   ],
   "source": [
    "y_preds = torch.cat(y_preds, dim = 0).to(device)\n",
    "y_preds"
   ]
  },
  {
   "cell_type": "code",
   "execution_count": 85,
   "id": "2ca0e5b4",
   "metadata": {},
   "outputs": [
    {
     "data": {
      "text/plain": [
       "tensor([9, 2, 1,  ..., 8, 1, 5], device='cuda:0')"
      ]
     },
     "execution_count": 85,
     "metadata": {},
     "output_type": "execute_result"
    }
   ],
   "source": [
    "#labels = torch.cat(labels, dim = 0)\n",
    "labels"
   ]
  },
  {
   "cell_type": "code",
   "execution_count": 95,
   "id": "5074e64c",
   "metadata": {},
   "outputs": [
    {
     "data": {
      "image/png": "[encoded data removed]",
      "text/plain": [
       "<Figure size 640x480 with 2 Axes>"
      ]
     },
     "metadata": {},
     "output_type": "display_data"
    }
   ],
   "source": [
    "#create confusion matrix nad plot it\n",
    "#create confusion matrix\n",
    "confusion_matrix_fn = ConfusionMatrix(task = 'multiclass', num_classes= len(class_names)).to(device)\n",
    "confusion_mtrx_new_model = confusion_matrix_fn(y_preds, labels)\n",
    "#plot confusion matrix\n",
    "fig, ax = plot_confusion_matrix(conf_mat=confusion_mtrx_new_model.cpu().numpy(), #convert to numpy b/c matplot working with numpy\n",
    "                                colorbar=True,\n",
    "                                show_absolute=True,\n",
    "                                show_normed=False,\n",
    "                               class_names = class_names)\n",
    "plt.show()"
   ]
  },
  {
   "cell_type": "code",
   "execution_count": null,
   "id": "156252d7",
   "metadata": {},
   "outputs": [],
   "source": []
  }
 ],
 "metadata": {
  "kernelspec": {
   "display_name": "Python 3 (ipykernel)",
   "language": "python",
   "name": "python3"
  },
  "language_info": {
   "codemirror_mode": {
    "name": "ipython",
    "version": 3
   },
   "file_extension": ".py",
   "mimetype": "text/x-python",
   "name": "python",
   "nbconvert_exporter": "python",
   "pygments_lexer": "ipython3",
   "version": "3.8.10"
  }
 },
 "nbformat": 4,
 "nbformat_minor": 5
}
