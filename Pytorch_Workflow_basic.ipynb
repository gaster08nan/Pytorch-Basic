{
 "cells": [
  {
   "cell_type": "markdown",
   "id": "5afd875d",
   "metadata": {},
   "source": [
    "### Pytorch workflow"
   ]
  },
  {
   "cell_type": "code",
   "execution_count": 1,
   "id": "0081871e",
   "metadata": {},
   "outputs": [
    {
     "data": {
      "text/plain": [
       "{1: 'data (prepare and load)',\n",
       " 2: 'building model',\n",
       " 3: 'fitting the model to the data (training)',\n",
       " 4: 'making prediction and evaluting the model (inference)',\n",
       " 5: 'saving and load model',\n",
       " 6: 'putting it all together'}"
      ]
     },
     "execution_count": 1,
     "metadata": {},
     "output_type": "execute_result"
    }
   ],
   "source": [
    "what_were_covering = {1: \"data (prepare and load)\",\n",
    "                     2: \"building model\",\n",
    "                     3: \"fitting the model to the data (training)\",\n",
    "                     4: \"making prediction and evaluting the model (inference)\",\n",
    "                     5: \"saving and load model\",\n",
    "                     6: \"putting it all together\"}\n",
    "\n",
    "what_were_covering"
   ]
  },
  {
   "cell_type": "code",
   "execution_count": 2,
   "id": "7c4a2f95",
   "metadata": {},
   "outputs": [
    {
     "name": "stderr",
     "output_type": "stream",
     "text": [
      "d:\\work\\personal-projects\\pytorch-nlp\\pytorch\\lib\\site-packages\\tqdm\\auto.py:21: TqdmWarning: IProgress not found. Please update jupyter and ipywidgets. See https://ipywidgets.readthedocs.io/en/stable/user_install.html\n",
      "  from .autonotebook import tqdm as notebook_tqdm\n"
     ]
    },
    {
     "data": {
      "text/plain": [
       "'1.13.1+cu117'"
      ]
     },
     "execution_count": 2,
     "metadata": {},
     "output_type": "execute_result"
    }
   ],
   "source": [
    "import torch\n",
    "from torch import nn #torch.nn contain all Pytorch's building block for neural networks\n",
    "import matplotlib.pyplot as plt\n",
    "\n",
    "#check pytorch version\n",
    "torch.__version__ "
   ]
  },
  {
   "cell_type": "markdown",
   "id": "32754220",
   "metadata": {},
   "source": [
    "### 1.Data\n",
    "Data can be almost anything... in machine learning\n",
    "* image of any kind\n",
    "* ecel sheet\n",
    "* video\n",
    "* audio\n",
    "* dna\n",
    "* tet\n",
    "\n",
    "Machine is a game of 2 parts:\n",
    "1. get the data into the numerical presentation\n",
    "2. build a model to learn patterns in that numerical presentation\n",
    "\n",
    "Let's create some *know* data using the linear regresstion formula.\n",
    "\n",
    "We'll use linear regresstion fomula to make a straight line with *know* **parameters**"
   ]
  },
  {
   "cell_type": "code",
   "execution_count": 3,
   "id": "16c8ba88",
   "metadata": {},
   "outputs": [
    {
     "data": {
      "text/plain": [
       "(tensor([[0.0000],\n",
       "         [0.0200],\n",
       "         [0.0400],\n",
       "         [0.0600],\n",
       "         [0.0800],\n",
       "         [0.1000],\n",
       "         [0.1200],\n",
       "         [0.1400],\n",
       "         [0.1600],\n",
       "         [0.1800]]),\n",
       " tensor([[0.3000],\n",
       "         [0.3140],\n",
       "         [0.3280],\n",
       "         [0.3420],\n",
       "         [0.3560],\n",
       "         [0.3700],\n",
       "         [0.3840],\n",
       "         [0.3980],\n",
       "         [0.4120],\n",
       "         [0.4260]]))"
      ]
     },
     "execution_count": 3,
     "metadata": {},
     "output_type": "execute_result"
    }
   ],
   "source": [
    "#create *know* parameters\n",
    "weight = 0.7\n",
    "bias = 0.3\n",
    "\n",
    "#create \n",
    "start =0\n",
    "end = 1\n",
    "step = 0.02\n",
    "X = torch.arange(start,end,step).unsqueeze(dim =1)\n",
    "y = weight * X + bias\n",
    "\n",
    "X[:10], y[:10]"
   ]
  },
  {
   "cell_type": "code",
   "execution_count": 4,
   "id": "dfb2695a",
   "metadata": {},
   "outputs": [
    {
     "data": {
      "text/plain": [
       "(50, 50)"
      ]
     },
     "execution_count": 4,
     "metadata": {},
     "output_type": "execute_result"
    }
   ],
   "source": [
    "len(X), len(y)"
   ]
  },
  {
   "cell_type": "markdown",
   "id": "f18cb738",
   "metadata": {},
   "source": [
    "#### Spliting data into traning sets and testing sets"
   ]
  },
  {
   "cell_type": "code",
   "execution_count": 5,
   "id": "3e6f4124",
   "metadata": {},
   "outputs": [],
   "source": [
    "##create train split\n",
    "train_split = int(0.8 * len(X))\n",
    "X_train, y_train = X[:train_split], y[:train_split]\n",
    "X_test, y_test = X[train_split:], y[train_split:]"
   ]
  },
  {
   "cell_type": "code",
   "execution_count": 6,
   "id": "523f1846",
   "metadata": {},
   "outputs": [
    {
     "name": "stdout",
     "output_type": "stream",
     "text": [
      "40 40\n",
      "10 10\n"
     ]
    }
   ],
   "source": [
    "print(len(X_train), len(y_train))\n",
    "print(len(X_test), len(y_test))"
   ]
  },
  {
   "cell_type": "markdown",
   "id": "b5b0514c",
   "metadata": {},
   "source": [
    "#### visualize data"
   ]
  },
  {
   "cell_type": "code",
   "execution_count": 7,
   "id": "d90edf9e",
   "metadata": {},
   "outputs": [],
   "source": [
    "def plot_prediction(train_data = X_train,\n",
    "                   train_label =y_train,\n",
    "                   test_data = X_test,\n",
    "                   test_label = y_test,\n",
    "                   prediction =None):\n",
    "    \"\"\"\n",
    "    Plot training data, test data and compares prediction\n",
    "    \"\"\"\n",
    "    plt.figure(figsize=(10,7))\n",
    "    \n",
    "    #plot the train data in blue\n",
    "    plt.scatter(train_data, train_label, c=\"b\", s=4, label = \"train\")\n",
    "    \n",
    "    #plot the test data in green\n",
    "    plt.scatter(test_data, test_label, c=\"g\", s=4, label = \"test\")\n",
    "    \n",
    "    #plot the prediction if esiXt\n",
    "    if prediction is not None:\n",
    "        plt.scatter(test_data, prediction, c= \"r\", s=4, label = \"prediction\")\n",
    "    \n",
    "    #show the legend\n",
    "    plt.legend(prop = {\"size\":14})"
   ]
  },
  {
   "cell_type": "code",
   "execution_count": 8,
   "id": "f76da137",
   "metadata": {},
   "outputs": [
    {
     "data": {
      "image/png": "[encoded data removed]",
      "text/plain": [
       "<Figure size 1000x700 with 1 Axes>"
      ]
     },
     "metadata": {},
     "output_type": "display_data"
    }
   ],
   "source": [
    "plot_prediction()"
   ]
  },
  {
   "cell_type": "markdown",
   "id": "555a829b",
   "metadata": {},
   "source": [
    "### 2.Build model\n",
    "Pytorch model building essential\n",
    "* torch.nn - contain all building blocks for all computational graphs (a neural networks can be considered a coomputational graphs)\n",
    "* torch.nn - what parameters should model try and learn, often the Pytorch layers in torch.nn will set these for us\n",
    "* torch.nn.Module - a base class for all nerural network modules, if you subclass it, your should overwrite forward()\n",
    "* torch.optim - these where the optimizers in Pytorch live, they will help in gradient decent\n",
    "* def forward() - all nn.Module subclasses require you to overwrite forward(), this method define what happend in the forward computation\n",
    "\n",
    "**Pytorch Cheat Sheet** - https://pytorch.org/tutorials/beginner/ptcheat.html"
   ]
  },
  {
   "cell_type": "code",
   "execution_count": 54,
   "id": "8850d58e",
   "metadata": {},
   "outputs": [],
   "source": [
    "import torch\n",
    "from torch import nn\n",
    "#create a linear regression  model class\n",
    "class LinearRegressionModel(nn.Module): #<- almost everything in pytorch inherhits from nn.Module\n",
    "    def __init__(self):\n",
    "        super().__init__()\n",
    "        self.weights = nn.Parameter(torch.rand(1, #<- start with the random weight and adjust to the idea weight\n",
    "                                              requires_grad = True, #<- can this parameter can be updated via gradient decent\n",
    "                                              dtype = torch.float)) \n",
    "        self.bias = nn.Parameter(torch.rand(1, #<- start with the random weight and adjust to the idea weight\n",
    "                                              requires_grad = True, #<- can this parameter can be updated via gradient decent\n",
    "                                              dtype = torch.float)) \n",
    "        \n",
    "    #Forward method to define the computation in the model\n",
    "    def forward(self, x: torch.Tensor) -> torch.Tensor: #<- x is the input data\n",
    "        return self.weights * x + self.bias #this is the linear regression fomular\n",
    "    \n"
   ]
  },
  {
   "cell_type": "markdown",
   "id": "ba03157d",
   "metadata": {},
   "source": [
    "Can see inside the model with `.parameters`"
   ]
  },
  {
   "cell_type": "code",
   "execution_count": 55,
   "id": "98322bce",
   "metadata": {},
   "outputs": [
    {
     "data": {
      "text/plain": [
       "[Parameter containing:\n",
       " tensor([0.8823], requires_grad=True),\n",
       " Parameter containing:\n",
       " tensor([0.9150], requires_grad=True)]"
      ]
     },
     "execution_count": 55,
     "metadata": {},
     "output_type": "execute_result"
    }
   ],
   "source": [
    "torch.manual_seed(42)\n",
    "model_0 = LinearRegressionModel()\n",
    "list(model_0.parameters())"
   ]
  },
  {
   "cell_type": "code",
   "execution_count": 56,
   "id": "697f3445",
   "metadata": {},
   "outputs": [
    {
     "data": {
      "text/plain": [
       "OrderedDict([('weights', tensor([0.8823])), ('bias', tensor([0.9150]))])"
      ]
     },
     "execution_count": 56,
     "metadata": {},
     "output_type": "execute_result"
    }
   ],
   "source": [
    "#list named parameters\n",
    "model_0.state_dict()"
   ]
  },
  {
   "cell_type": "markdown",
   "id": "4f86e76e",
   "metadata": {},
   "source": [
    "#### making prediction using `torch.inference_mode()`\n",
    "\n",
    "When we past the data to the model,it's go throught forward()\n",
    "\n",
    "Passing X_test to the model and compare the output to the y_test to check the predictive power"
   ]
  },
  {
   "cell_type": "code",
   "execution_count": 57,
   "id": "42be18d3",
   "metadata": {},
   "outputs": [
    {
     "data": {
      "text/plain": [
       "tensor([[1.6208],\n",
       "        [1.6385],\n",
       "        [1.6561],\n",
       "        [1.6738],\n",
       "        [1.6914],\n",
       "        [1.7090],\n",
       "        [1.7267],\n",
       "        [1.7443],\n",
       "        [1.7620],\n",
       "        [1.7796]])"
      ]
     },
     "execution_count": 57,
     "metadata": {},
     "output_type": "execute_result"
    }
   ],
   "source": [
    "#making prediction with torch.inference_mode().\n",
    "# torch.inference_mode() is a context manager, when using this, Pytorch disable some inforamation using in trainning process\n",
    "#hence that make the predict faster than usual\n",
    "with torch.inference_mode():\n",
    "    y_preds = model_0(X_test)\n",
    "\n",
    "## can use this to remove Pytorch gradient tracking however don't have other efficency like inference_mode()\n",
    "# with torch.no_grad():\n",
    "#     y_preds = model_0(X_test)\n",
    "y_preds"
   ]
  },
  {
   "cell_type": "code",
   "execution_count": 58,
   "id": "8e3b27bf",
   "metadata": {},
   "outputs": [
    {
     "data": {
      "text/plain": [
       "tensor([[1.6208],\n",
       "        [1.6385],\n",
       "        [1.6561],\n",
       "        [1.6738],\n",
       "        [1.6914],\n",
       "        [1.7090],\n",
       "        [1.7267],\n",
       "        [1.7443],\n",
       "        [1.7620],\n",
       "        [1.7796]], grad_fn=<AddBackward0>)"
      ]
     },
     "execution_count": 58,
     "metadata": {},
     "output_type": "execute_result"
    }
   ],
   "source": [
    "#Can make prediction just by passing data into model.\n",
    "#But Pytorch will keep tracking information for trainning so the prediction is slower\n",
    "y_preds_2 = model_0(X_test)\n",
    "y_preds_2"
   ]
  },
  {
   "cell_type": "code",
   "execution_count": 59,
   "id": "9e6c7401",
   "metadata": {},
   "outputs": [
    {
     "data": {
      "text/plain": [
       "tensor([[0.8600],\n",
       "        [0.8740],\n",
       "        [0.8880],\n",
       "        [0.9020],\n",
       "        [0.9160],\n",
       "        [0.9300],\n",
       "        [0.9440],\n",
       "        [0.9580],\n",
       "        [0.9720],\n",
       "        [0.9860]])"
      ]
     },
     "execution_count": 59,
     "metadata": {},
     "output_type": "execute_result"
    }
   ],
   "source": [
    "y_test"
   ]
  },
  {
   "cell_type": "code",
   "execution_count": 60,
   "id": "1cd110a7",
   "metadata": {},
   "outputs": [
    {
     "data": {
      "image/png": "[encoded data removed]",
      "text/plain": [
       "<Figure size 1000x700 with 1 Axes>"
      ]
     },
     "metadata": {},
     "output_type": "display_data"
    }
   ],
   "source": [
    "plot_prediction(prediction = y_preds)"
   ]
  },
  {
   "cell_type": "markdown",
   "id": "e0f1b2c7",
   "metadata": {},
   "source": [
    "### 2.Training model\n",
    "The main idea of training is for a model to move from `unknown` parameters (these may be random) to some `known` parameters\n",
    "\n",
    "In other words from a poor representation of the data to better representation of the data\n",
    "\n",
    "One way to measure how poor or how wrong the model predictions are is to use **loss function**\n",
    "\n",
    "* Note: Loss function may be called cost function or criterion in different areas.\n",
    "\n",
    "Things we need to train:\n",
    "\n",
    "* **Lost function:** a function to measure how wrong the model predictions are to the idea output. The lower is better. \n",
    "\n",
    "* **Optimizer:** take into account the loss of a model, and adjusts the model's parameters (e.g. weights & bias) to improve the loss function.\n",
    "    * Inside the Optimizer, you often have to set two parameters:\n",
    "        * `params`: the models parameters you'd like to optimize\n",
    "        * `lr`: learning rate, a hyper parameter you need to set be hand, define how big/small the optimizer change in each step (a small `lr` result small change, a large `lr` result large change)\n",
    "\n",
    "Specifically for Pytorch, we need :\n",
    "* A training loop\n",
    "* A testing loop"
   ]
  },
  {
   "cell_type": "code",
   "execution_count": 61,
   "id": "024127ae",
   "metadata": {},
   "outputs": [],
   "source": [
    "#setup loss fuction\n",
    "loss_fn = nn.L1Loss()\n",
    "#setup optimizerr\n",
    "optimizer = torch.optim.SGD(params = model_0.parameters(), #Stochastic gradient decent\n",
    "                           lr = 0.01, #learning rate\n",
    "                           momentum = 0.3) #momentum"
   ]
  },
  {
   "cell_type": "code",
   "execution_count": 62,
   "id": "cc983908",
   "metadata": {},
   "outputs": [
    {
     "data": {
      "text/plain": [
       "SGD (\n",
       "Parameter Group 0\n",
       "    dampening: 0\n",
       "    differentiable: False\n",
       "    foreach: None\n",
       "    lr: 0.01\n",
       "    maximize: False\n",
       "    momentum: 0.3\n",
       "    nesterov: False\n",
       "    weight_decay: 0\n",
       ")"
      ]
     },
     "execution_count": 62,
     "metadata": {},
     "output_type": "execute_result"
    }
   ],
   "source": [
    "optimizer"
   ]
  },
  {
   "cell_type": "markdown",
   "id": "de963655",
   "metadata": {},
   "source": [
    "#### Building a training loop and testing loop\n",
    "A couple of things we need  in a training loop:\n",
    "\n",
    "0. Loop through the data and do...\n",
    "1. Forward pass (this involde data moving through our model `forward()` function) to make the prediction on data - also call forward propagation\n",
    "2. Calculate the loss (compare the forward path prediction to the ground truth labels)\n",
    "3. Optimizer zero grad\n",
    "4. Loss backward - move backward of the network to calculate the gradients of each of the parameters of our model with respect to the loss - also call **backpropagation**\n",
    "5. Optimzer step - use the optimzer to adjust the model's parameters to try and improve the loss **gradient decent**"
   ]
  },
  {
   "cell_type": "code",
   "execution_count": 63,
   "id": "6ecd3a47",
   "metadata": {},
   "outputs": [
    {
     "name": "stdout",
     "output_type": "stream",
     "text": [
      "Epoch: 0, Loss: 0.6860889196395874, Test Loss: 0.7637526988983154\n",
      "OrderedDict([('weights', tensor([0.8784])), ('bias', tensor([0.9050]))])\n",
      "Epoch: 10, Loss: 0.5285568237304688, Test Loss: 0.5737839937210083\n",
      "OrderedDict([('weights', tensor([0.8234])), ('bias', tensor([0.7640]))])\n",
      "Epoch: 20, Loss: 0.3639710545539856, Test Loss: 0.38134104013442993\n",
      "OrderedDict([('weights', tensor([0.7677])), ('bias', tensor([0.6211]))])\n",
      "Epoch: 30, Loss: 0.1993851214647293, Test Loss: 0.188897967338562\n",
      "OrderedDict([('weights', tensor([0.7119])), ('bias', tensor([0.4783]))])\n",
      "Epoch: 40, Loss: 0.03479941934347153, Test Loss: 0.003623789642006159\n",
      "OrderedDict([('weights', tensor([0.6562])), ('bias', tensor([0.3354]))])\n",
      "Epoch: 50, Loss: 0.006258939392864704, Test Loss: 0.013586169108748436\n",
      "OrderedDict([('weights', tensor([0.6713])), ('bias', tensor([0.3120]))])\n",
      "Epoch: 60, Loss: 0.0013707310426980257, Test Loss: 0.003262454178184271\n",
      "OrderedDict([('weights', tensor([0.6953])), ('bias', tensor([0.3009]))])\n",
      "Epoch: 70, Loss: 0.0037598484195768833, Test Loss: 0.0067178308963775635\n",
      "OrderedDict([('weights', tensor([0.6968])), ('bias', tensor([0.2962]))])\n",
      "Epoch: 80, Loss: 0.0037597857881337404, Test Loss: 0.006717860698699951\n",
      "OrderedDict([('weights', tensor([0.6968])), ('bias', tensor([0.2962]))])\n",
      "Epoch: 90, Loss: 0.0037597857881337404, Test Loss: 0.006717860698699951\n",
      "OrderedDict([('weights', tensor([0.6968])), ('bias', tensor([0.2962]))])\n"
     ]
    }
   ],
   "source": [
    "torch.manual_seed(42)\n",
    "#a epoch is an loop through the data - this is a hyper parameters\n",
    "epochs = 100\n",
    "\n",
    "#create a list to store the value infomation\n",
    "epochs_count = []\n",
    "loss_values =[]\n",
    "test_loss_values = []\n",
    "\n",
    "### training\n",
    "#step 0: loop through the data\n",
    "for epoch in range(epochs):\n",
    "\n",
    "    #set the model in training mode\n",
    "    model_0.train() #train model in Pytorch sets all parameters that require gradients to require gradients\n",
    "    \n",
    "    #step 1: Forward pass\n",
    "    y_preds = model_0(X_train)\n",
    "    \n",
    "    #step 2: Calculate the loss\n",
    "    loss = loss_fn(y_preds, y_train)\n",
    "    \n",
    "    #step 3: optimier zero grads\n",
    "    optimizer.zero_grad()\n",
    "    \n",
    "    #step 4: perform backpropagation on the loss with respect to the parameter of the model\n",
    "    loss.backward()\n",
    "    \n",
    "    #step 5: step the omtimizer (perform gradient descent)\n",
    "    #by default the optimizer is accumlumate through the loop so... we have to zero them in step 3 for the next iteration of the loop\n",
    "    optimizer.step() \n",
    "    \n",
    "    ### testing\n",
    "    #turn off the different setting in the model not need for evaluation/testing (dropout/batchnorm)\n",
    "    model_0.eval()\n",
    "    with torch.inference_mode(): #turn of gradient tracking\n",
    "        #1. forward pass\n",
    "        test_preds = model_0(X_test)\n",
    "        \n",
    "        #2. calculate the loss\n",
    "        test_loss = loss_fn(test_preds, y_test)\n",
    "    if epoch % 10 == 0:\n",
    "        epochs_count.append(epoch)\n",
    "        loss_values.append(loss)\n",
    "        test_loss_values.append(test_loss)\n",
    "        print(f\"Epoch: {epoch}, Loss: {loss}, Test Loss: {test_loss}\")\n",
    "        print(model_0.state_dict())"
   ]
  },
  {
   "cell_type": "code",
   "execution_count": 66,
   "id": "5431df7b",
   "metadata": {},
   "outputs": [
    {
     "data": {
      "image/png": "[encoded data removed]",
      "text/plain": [
       "<Figure size 640x480 with 1 Axes>"
      ]
     },
     "metadata": {},
     "output_type": "display_data"
    }
   ],
   "source": [
    "#plot the loss curve\n",
    "import numpy as np\n",
    "plt.plot(epochs_count, np.array(torch.tensor(loss_values).cpu().numpy()), label='Train loss')\n",
    "plt.plot(epochs_count, test_loss_values, label = 'Test loss')\n",
    "plt.title(\"Training and test loss curve\")\n",
    "plt.xlabel('Epochs')\n",
    "plt.ylabel('Loss')\n",
    "plt.legend();"
   ]
  },
  {
   "cell_type": "code",
   "execution_count": 53,
   "id": "50db1f76",
   "metadata": {
    "scrolled": true
   },
   "outputs": [
    {
     "data": {
      "image/png": "[encoded data removed]",
      "text/plain": [
       "<Figure size 1000x700 with 1 Axes>"
      ]
     },
     "metadata": {},
     "output_type": "display_data"
    }
   ],
   "source": [
    "with torch.inference_mode():\n",
    "    final_y_pred = model_0(X_test)\n",
    "\n",
    "plot_prediction(prediction = final_y_pred)"
   ]
  },
  {
   "cell_type": "markdown",
   "id": "84b06e07",
   "metadata": {},
   "source": [
    "### 3.Saving and loading the model in Pytorch\n",
    "There are 3 main methods you should know about saving and loading models in Pytorch\n",
    "1. `torch.save()` - allows you to save a Pytorch object in Python's pickle format\n",
    "2. `torch.load()` - allows you to load a Pytorch object\n",
    "3. `torch.nn.Module.load_state_dict()` - this allows to load a model's saved state dictionary"
   ]
  },
  {
   "cell_type": "code",
   "execution_count": 72,
   "id": "4d2e831a",
   "metadata": {
    "scrolled": true
   },
   "outputs": [
    {
     "name": "stdout",
     "output_type": "stream",
     "text": [
      "model\\01_Pytorch_workflow.pth\n",
      "saving model to model\\01_Pytorch_workflow.pth\n"
     ]
    }
   ],
   "source": [
    "##saving a model\n",
    "from pathlib import Path\n",
    "\n",
    "#1. Create model folder\n",
    "MODEL_PATH = Path(\"model\")\n",
    "MODEL_PATH.mkdir(parents=True, exist_ok=True)\n",
    "\n",
    "#2. Create a model save path\n",
    "MODEL_NAME = \"01_Pytorch_workflow.pth\"\n",
    "MODEL_SAVE_PATH = MODEL_PATH / MODEL_NAME\n",
    "\n",
    "#3. save the model state dict\n",
    "print(f\"saving model to {MODEL_SAVE_PATH}\")\n",
    "torch.save(obj = model_0.state_dict(),\n",
    "           f = MODEL_SAVE_PATH)"
   ]
  },
  {
   "cell_type": "markdown",
   "id": "3b32b829",
   "metadata": {},
   "source": [
    "Since we save the model_0 state dict, we need to create a new model's instance and load the saved `state_dict` into that."
   ]
  },
  {
   "cell_type": "code",
   "execution_count": 75,
   "id": "d1843147",
   "metadata": {},
   "outputs": [
    {
     "data": {
      "text/plain": [
       "<All keys matched successfully>"
      ]
     },
     "execution_count": 75,
     "metadata": {},
     "output_type": "execute_result"
    }
   ],
   "source": [
    "##loading a model\n",
    "###create a new instance of the model\n",
    "loaded_model = LinearRegressionModel()\n",
    "###load the saved state dict of the model_0\n",
    "model_state_dict = torch.load(f = MODEL_SAVE_PATH,\n",
    "                         map_location = torch.device('cuda:0'))\n",
    "###update the new model with the saved state dict\n",
    "loaded_model.load_state_dict(model_state_dict)"
   ]
  },
  {
   "cell_type": "code",
   "execution_count": 76,
   "id": "fb0b2f4e",
   "metadata": {},
   "outputs": [
    {
     "data": {
      "image/png": "[encoded data removed]",
      "text/plain": [
       "<Figure size 1000x700 with 1 Axes>"
      ]
     },
     "metadata": {},
     "output_type": "display_data"
    }
   ],
   "source": [
    "###making prediction with the saved state dict and plot the predictions\n",
    "with torch.inference_mode():\n",
    "    loaded_preds = loaded_model(X_test)\n",
    "plot_prediction(prediction = loaded_preds)"
   ]
  },
  {
   "cell_type": "markdown",
   "id": "8e6363a7",
   "metadata": {},
   "source": [
    "### 4.Putting things together\n"
   ]
  },
  {
   "cell_type": "code",
   "execution_count": 80,
   "id": "4e05694e",
   "metadata": {},
   "outputs": [],
   "source": [
    "###import libraries\n",
    "import torch\n",
    "from torch import nn\n",
    "import numpy as np\n",
    "import matplotlib.pyplot as plt\n",
    "from pathlib import Path"
   ]
  },
  {
   "cell_type": "markdown",
   "id": "ef7e533d",
   "metadata": {},
   "source": [
    "#### 4.1 Data"
   ]
  },
  {
   "cell_type": "code",
   "execution_count": 165,
   "id": "94ee5200",
   "metadata": {},
   "outputs": [],
   "source": [
    "weigth = 3\n",
    "bias = -5\n",
    "\n",
    "X = torch.arange(0,2, 0.02).unsqueeze(dim = 1)\n",
    "y = weight * X + bias\n",
    "\n",
    "#devide train, test\n",
    "test_split = int( 0.8 * len(X))\n",
    "##train data\n",
    "train_data = X[:test_split]\n",
    "train_label = y[:test_split]\n",
    "##test data\n",
    "test_data = X[test_split:]\n",
    "test_label = y[test_split:]"
   ]
  },
  {
   "cell_type": "code",
   "execution_count": 166,
   "id": "f3372198",
   "metadata": {},
   "outputs": [
    {
     "name": "stdout",
     "output_type": "stream",
     "text": [
      "80 80\n",
      "20 20\n"
     ]
    }
   ],
   "source": [
    "print(len(train_data),len(train_label))\n",
    "print(len(test_data), len(test_label))"
   ]
  },
  {
   "cell_type": "code",
   "execution_count": 174,
   "id": "3252c84a",
   "metadata": {},
   "outputs": [],
   "source": [
    "def plot_data(train_data = train_data,\n",
    "             train_label = train_label,\n",
    "             test_data = test_data,\n",
    "             test_lable = test_label,\n",
    "             predictions = None):\n",
    "    plt.figure(figsize=(10,7))\n",
    "    plt.scatter(train_data.cpu(), train_label.cpu(), c='b', s=4, label ='train')\n",
    "    plt.scatter(test_data.cpu(), test_label.cpu(), c='g', s= 4, label ='test')\n",
    "    if predictions is not None:\n",
    "        plt.scatter(test_data.cpu(), predictions.cpu(), c='r', s=4, label ='prediction')\n",
    "    plt.legend(prop= {'size': 14})"
   ]
  },
  {
   "cell_type": "code",
   "execution_count": 175,
   "id": "2550e696",
   "metadata": {},
   "outputs": [
    {
     "data": {
      "image/png": "[encoded data removed]",
      "text/plain": [
       "<Figure size 1000x700 with 1 Axes>"
      ]
     },
     "metadata": {},
     "output_type": "display_data"
    }
   ],
   "source": [
    "plot_data()"
   ]
  },
  {
   "cell_type": "markdown",
   "id": "e1ad3ed0",
   "metadata": {},
   "source": [
    "#### 4.2 Building model"
   ]
  },
  {
   "cell_type": "code",
   "execution_count": 154,
   "id": "af628e09",
   "metadata": {},
   "outputs": [],
   "source": [
    "#create model class\n",
    "class LinearRegModel(nn.Module):\n",
    "    def __init__(self):\n",
    "        super().__init__()\n",
    "        self.linear_layer = torch.nn.Linear(in_features =1,\n",
    "                                      out_features = 1)\n",
    "    def forward(self, x: torch.Tensor) -> torch.Tensor:\n",
    "        return self.linear_layer(x)"
   ]
  },
  {
   "cell_type": "code",
   "execution_count": 155,
   "id": "d3c367cf",
   "metadata": {},
   "outputs": [
    {
     "name": "stdout",
     "output_type": "stream",
     "text": [
      "OrderedDict([('linear_layer.weight', tensor([[0.7645]])), ('linear_layer.bias', tensor([0.8300]))])\n"
     ]
    }
   ],
   "source": [
    "torch.manual_seed(42)\n",
    "#create model\n",
    "model_1 = LinearRegModel()\n",
    "print(model_1.state_dict())"
   ]
  },
  {
   "cell_type": "code",
   "execution_count": 156,
   "id": "c5b8fe1e",
   "metadata": {},
   "outputs": [
    {
     "name": "stdout",
     "output_type": "stream",
     "text": [
      "cpu\n"
     ]
    }
   ],
   "source": [
    "#check the current device of the model\n",
    "print(next(model_1.parameters()).device)"
   ]
  },
  {
   "cell_type": "code",
   "execution_count": 157,
   "id": "25d85db1",
   "metadata": {},
   "outputs": [
    {
     "name": "stdout",
     "output_type": "stream",
     "text": [
      "cuda\n"
     ]
    }
   ],
   "source": [
    "#setup device diagnostic code for cpu or gpu\n",
    "device = 'cuda' if torch.cuda.is_available() else 'cpu'\n",
    "print(device)"
   ]
  },
  {
   "cell_type": "code",
   "execution_count": 158,
   "id": "5fa9204b",
   "metadata": {},
   "outputs": [
    {
     "name": "stdout",
     "output_type": "stream",
     "text": [
      "cuda:0\n"
     ]
    }
   ],
   "source": [
    "#set the device for the model\n",
    "model_1.to(device)\n",
    "print(next(model_1.parameters()).device)"
   ]
  },
  {
   "cell_type": "code",
   "execution_count": 159,
   "id": "7d856092",
   "metadata": {},
   "outputs": [],
   "source": [
    "#create loss function\n",
    "loss_func = nn.MSELoss()\n",
    "#create optimizer\n",
    "optimizer = torch.optim.SGD(params = model_1.parameters(),\n",
    "                           lr = 0.04)"
   ]
  },
  {
   "cell_type": "markdown",
   "id": "83894412",
   "metadata": {},
   "source": [
    "#### 4.3 Create training and testing loop"
   ]
  },
  {
   "cell_type": "code",
   "execution_count": 167,
   "id": "c046a63c",
   "metadata": {},
   "outputs": [],
   "source": [
    "#put data on the same device of the model\n",
    "train_data= train_data.to(device)\n",
    "train_label = train_label.to(device)\n",
    "test_data = test_data.to(device)\n",
    "test_label = test_label.to(device)"
   ]
  },
  {
   "cell_type": "code",
   "execution_count": 178,
   "id": "472c2ab8",
   "metadata": {},
   "outputs": [
    {
     "name": "stdout",
     "output_type": "stream",
     "text": [
      "Epoch: 0| loss: 0.004560504574328661| test_loss: 0.015851935371756554\n",
      "Epoch: 50| loss: 0.0016756814438849688| test_loss: 0.005824537482112646\n",
      "Epoch: 100| loss: 0.0006156942690722644| test_loss: 0.0021401059348136187\n",
      "Epoch: 150| loss: 0.00022622155665885657| test_loss: 0.0007863484206609428\n",
      "Epoch: 200| loss: 8.312036516144872e-05| test_loss: 0.0002889324096031487\n",
      "Epoch: 250| loss: 3.0544204491889104e-05| test_loss: 0.00010616153303999454\n"
     ]
    }
   ],
   "source": [
    "epochs = 300\n",
    "epoch_count = []\n",
    "loss_values = []\n",
    "test_loss_value = []\n",
    "\n",
    "for epoch in range(epochs):\n",
    "    ##### training process\n",
    "    model_1.train()\n",
    "    #forward pass\n",
    "    y_preds = model_1.forward(train_data)\n",
    "    #calculate loss\n",
    "    loss = loss_func(y_preds, train_label)\n",
    "    #optimizer zero grads\n",
    "    optimizer.zero_grad()\n",
    "    #loss backward\n",
    "    loss.backward()\n",
    "    #optimizer step\n",
    "    optimizer.step()\n",
    "    \n",
    "    #### testing process\n",
    "    model_1.eval()\n",
    "    with torch.inference_mode():\n",
    "        prediction = model_1(test_data)\n",
    "        test_loss = loss_func(prediction, test_label)\n",
    "    if epoch % 50 == 0:\n",
    "        print(f\"Epoch: {epoch}| loss: {loss}| test_loss: {test_loss}\")\n",
    "        epoch_count.append(epoch)\n",
    "        loss_values.append(loss)\n",
    "        test_loss_value.append(test_loss)"
   ]
  },
  {
   "cell_type": "code",
   "execution_count": 180,
   "id": "2eb2151a",
   "metadata": {},
   "outputs": [
    {
     "data": {
      "image/png": "[encoded data removed]",
      "text/plain": [
       "<Figure size 1000x700 with 1 Axes>"
      ]
     },
     "metadata": {},
     "output_type": "display_data"
    }
   ],
   "source": [
    "###plot prediction\n",
    "with torch.inference_mode():\n",
    "    predictions =  model_1(test_data)\n",
    "plot_data(predictions = predictions.cpu())"
   ]
  },
  {
   "cell_type": "markdown",
   "id": "4a3604fa",
   "metadata": {},
   "source": [
    "#### 4.4 saving and loading model"
   ]
  },
  {
   "cell_type": "code",
   "execution_count": 181,
   "id": "ca05536f",
   "metadata": {},
   "outputs": [],
   "source": [
    "MODEL_PATH = Path('model')\n",
    "MODEL_PATH.mkdir(parents = True,\n",
    "                exist_ok = True)"
   ]
  },
  {
   "cell_type": "code",
   "execution_count": 182,
   "id": "67c98287",
   "metadata": {},
   "outputs": [
    {
     "data": {
      "text/plain": [
       "WindowsPath('model/pytorch_workflow_model_1.pth')"
      ]
     },
     "execution_count": 182,
     "metadata": {},
     "output_type": "execute_result"
    }
   ],
   "source": [
    "MODEL_NAME = 'pytorch_workflow_model_1.pth'\n",
    "SAVE_MODEL_PATH = MODEL_PATH/MODEL_NAME\n",
    "SAVE_MODEL_PATH"
   ]
  },
  {
   "cell_type": "code",
   "execution_count": 183,
   "id": "130da0d6",
   "metadata": {},
   "outputs": [
    {
     "name": "stdout",
     "output_type": "stream",
     "text": [
      "Model is save to model\\pytorch_workflow_model_1.pth\n"
     ]
    }
   ],
   "source": [
    "#save the model state dict\n",
    "print(f\"Model is save to {SAVE_MODEL_PATH}\")\n",
    "torch.save(obj = model_1.state_dict(),\n",
    "          f = SAVE_MODEL_PATH)"
   ]
  },
  {
   "cell_type": "code",
   "execution_count": 185,
   "id": "0566db8f",
   "metadata": {},
   "outputs": [
    {
     "data": {
      "text/plain": [
       "LinearRegModel(\n",
       "  (linear_layer): Linear(in_features=1, out_features=1, bias=True)\n",
       ")"
      ]
     },
     "execution_count": 185,
     "metadata": {},
     "output_type": "execute_result"
    }
   ],
   "source": [
    "#load the model\n",
    "#create a new instance of model\n",
    "loaded_model_1 = LinearRegModel()\n",
    "#load the model 1 state dict into the new instance\n",
    "loaded_model_1.load_state_dict(torch.load(SAVE_MODEL_PATH))\n",
    "#set the device of the load model\n",
    "loaded_model_1.to(device)"
   ]
  },
  {
   "cell_type": "code",
   "execution_count": 186,
   "id": "9fb9381f",
   "metadata": {},
   "outputs": [
    {
     "name": "stdout",
     "output_type": "stream",
     "text": [
      "cuda:0\n"
     ]
    }
   ],
   "source": [
    "print(next(loaded_model_1.parameters()).device)"
   ]
  },
  {
   "cell_type": "code",
   "execution_count": 187,
   "id": "b7c93b63",
   "metadata": {},
   "outputs": [
    {
     "data": {
      "text/plain": [
       "tensor([[True],\n",
       "        [True],\n",
       "        [True],\n",
       "        [True],\n",
       "        [True],\n",
       "        [True],\n",
       "        [True],\n",
       "        [True],\n",
       "        [True],\n",
       "        [True],\n",
       "        [True],\n",
       "        [True],\n",
       "        [True],\n",
       "        [True],\n",
       "        [True],\n",
       "        [True],\n",
       "        [True],\n",
       "        [True],\n",
       "        [True],\n",
       "        [True]], device='cuda:0')"
      ]
     },
     "execution_count": 187,
     "metadata": {},
     "output_type": "execute_result"
    }
   ],
   "source": [
    "#check the 2 output\n",
    "loaded_model_1.eval()\n",
    "with torch.inference_mode():\n",
    "    new_pred = loaded_model_1(test_data)\n",
    "    \n",
    "new_pred == predictions"
   ]
  },
  {
   "cell_type": "code",
   "execution_count": null,
   "id": "877af9bd",
   "metadata": {},
   "outputs": [],
   "source": []
  }
 ],
 "metadata": {
  "kernelspec": {
   "display_name": "Python 3 (ipykernel)",
   "language": "python",
   "name": "python3"
  },
  "language_info": {
   "codemirror_mode": {
    "name": "ipython",
    "version": 3
   },
   "file_extension": ".py",
   "mimetype": "text/x-python",
   "name": "python",
   "nbconvert_exporter": "python",
   "pygments_lexer": "ipython3",
   "version": "3.8.10"
  }
 },
 "nbformat": 4,
 "nbformat_minor": 5
}
